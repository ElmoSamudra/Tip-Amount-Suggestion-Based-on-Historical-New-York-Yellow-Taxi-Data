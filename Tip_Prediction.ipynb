{
 "cells": [
  {
   "cell_type": "markdown",
   "metadata": {},
   "source": [
    "# Predict Tip Amount"
   ]
  },
  {
   "cell_type": "markdown",
   "metadata": {},
   "source": [
    "Motivation: The appropriate tip amount for a passenger in a given scenario. In general scenarios, tips will also depend on the driver's service. Thus, the prediction will only give a general outline of the amount. Passengers will need to adjust according to how they felt.\n",
    "The model will sum up the past data and we will assume that it represents the appropriate tip amount."
   ]
  },
  {
   "cell_type": "markdown",
   "metadata": {},
   "source": [
    "Our Dataset 2019-10 to 2020-03.\n",
    "Assumption: Most recent will be most reliable. Before covid. Assume that tips should stay the same regardless of covid."
   ]
  },
  {
   "cell_type": "code",
   "execution_count": 2,
   "metadata": {},
   "outputs": [],
   "source": [
    "import pandas as pd\n",
    "import numpy as np\n",
    "import seaborn as sns\n",
    "import matplotlib.pyplot as plt"
   ]
  },
  {
   "cell_type": "code",
   "execution_count": 354,
   "metadata": {},
   "outputs": [
    {
     "name": "stderr",
     "output_type": "stream",
     "text": [
      "/usr/local/lib/python3.6/dist-packages/IPython/core/interactiveshell.py:3063: DtypeWarning: Columns (6) have mixed types.Specify dtype option on import or set low_memory=False.\n",
      "  interactivity=interactivity, compiler=compiler, result=result)\n"
     ]
    }
   ],
   "source": [
    "# Yellow Taxi Data October 2019 to March 2020\n",
    "datalist = ['2019-01', '2019-02', '2019-03', '2019-04', \n",
    "            '2019-05', '2019-06', '2019-07', '2019-08',\n",
    "            '2019-09', '2019-10', '2019-11', '2019-12']\n",
    "dflist = []\n",
    "for i in datalist:\n",
    "    dflist.append(pd.read_csv(f'yellow_tripdata_{i}.csv'))"
   ]
  },
  {
   "cell_type": "code",
   "execution_count": 355,
   "metadata": {},
   "outputs": [],
   "source": [
    "# Concat all dataframe rows\n",
    "taxidf = pd.concat(dflist)"
   ]
  },
  {
   "cell_type": "code",
   "execution_count": 356,
   "metadata": {},
   "outputs": [
    {
     "data": {
      "text/plain": [
       "(84399019, 18)"
      ]
     },
     "execution_count": 356,
     "metadata": {},
     "output_type": "execute_result"
    }
   ],
   "source": [
    "taxidf.shape"
   ]
  },
  {
   "cell_type": "code",
   "execution_count": 357,
   "metadata": {},
   "outputs": [],
   "source": [
    "# Passengers must be more than 0\n",
    "taxidf = taxidf[taxidf['passenger_count'] > 0]\n",
    "taxidf = taxidf[taxidf['passenger_count'] <= 6]\n",
    "\n",
    "# Trip distance bigger than 0\n",
    "taxidf = taxidf[taxidf['trip_distance'] > 0]\n",
    "\n",
    "# Payment type by credit card for tips to be recorded properly\n",
    "# cash and other types of payments dont have proper records of tips\n",
    "taxidf = taxidf[taxidf['payment_type'] == 1]\n",
    "\n",
    "# Starting fare amount is $2.5\n",
    "taxidf = taxidf[taxidf['fare_amount'] >= 2.5]\n",
    "\n",
    "# Drop missing values and duplicates\n",
    "taxidf = taxidf.dropna()\n",
    "taxidf = taxidf.drop_duplicates()"
   ]
  },
  {
   "cell_type": "code",
   "execution_count": 358,
   "metadata": {},
   "outputs": [],
   "source": [
    "# Data too large, sample data\n",
    "taxidf = taxidf.sample(frac =.3) "
   ]
  },
  {
   "cell_type": "code",
   "execution_count": 359,
   "metadata": {},
   "outputs": [
    {
     "data": {
      "text/plain": [
       "(16739617, 18)"
      ]
     },
     "execution_count": 359,
     "metadata": {},
     "output_type": "execute_result"
    }
   ],
   "source": [
    "taxidf.shape"
   ]
  },
  {
   "cell_type": "code",
   "execution_count": 361,
   "metadata": {},
   "outputs": [],
   "source": [
    "# Save the combined taxi dataset in feather format\n",
    "taxidf.reset_index().to_feather('cleantaxidf.feather')"
   ]
  },
  {
   "cell_type": "code",
   "execution_count": 362,
   "metadata": {},
   "outputs": [],
   "source": [
    "import feather\n",
    "taxidf = feather.read_dataframe(\"cleantaxidf.feather\").drop('index', axis=1)"
   ]
  },
  {
   "cell_type": "code",
   "execution_count": 363,
   "metadata": {},
   "outputs": [
    {
     "data": {
      "text/html": [
       "<div>\n",
       "<style scoped>\n",
       "    .dataframe tbody tr th:only-of-type {\n",
       "        vertical-align: middle;\n",
       "    }\n",
       "\n",
       "    .dataframe tbody tr th {\n",
       "        vertical-align: top;\n",
       "    }\n",
       "\n",
       "    .dataframe thead th {\n",
       "        text-align: right;\n",
       "    }\n",
       "</style>\n",
       "<table border=\"1\" class=\"dataframe\">\n",
       "  <thead>\n",
       "    <tr style=\"text-align: right;\">\n",
       "      <th></th>\n",
       "      <th>VendorID</th>\n",
       "      <th>tpep_pickup_datetime</th>\n",
       "      <th>tpep_dropoff_datetime</th>\n",
       "      <th>passenger_count</th>\n",
       "      <th>trip_distance</th>\n",
       "      <th>RatecodeID</th>\n",
       "      <th>store_and_fwd_flag</th>\n",
       "      <th>PULocationID</th>\n",
       "      <th>DOLocationID</th>\n",
       "      <th>payment_type</th>\n",
       "      <th>fare_amount</th>\n",
       "      <th>extra</th>\n",
       "      <th>mta_tax</th>\n",
       "      <th>tip_amount</th>\n",
       "      <th>tolls_amount</th>\n",
       "      <th>improvement_surcharge</th>\n",
       "      <th>total_amount</th>\n",
       "      <th>congestion_surcharge</th>\n",
       "    </tr>\n",
       "  </thead>\n",
       "  <tbody>\n",
       "    <tr>\n",
       "      <th>0</th>\n",
       "      <td>2.0000</td>\n",
       "      <td>2019-09-04 14:11:41</td>\n",
       "      <td>2019-09-04 14:19:06</td>\n",
       "      <td>1.0000</td>\n",
       "      <td>0.7000</td>\n",
       "      <td>1.0000</td>\n",
       "      <td>N</td>\n",
       "      <td>137</td>\n",
       "      <td>170</td>\n",
       "      <td>1.0000</td>\n",
       "      <td>6.0000</td>\n",
       "      <td>0.0000</td>\n",
       "      <td>0.5000</td>\n",
       "      <td>1.0000</td>\n",
       "      <td>0.0000</td>\n",
       "      <td>0.3000</td>\n",
       "      <td>10.3000</td>\n",
       "      <td>2.5000</td>\n",
       "    </tr>\n",
       "    <tr>\n",
       "      <th>1</th>\n",
       "      <td>2.0000</td>\n",
       "      <td>2019-09-16 20:13:59</td>\n",
       "      <td>2019-09-16 20:17:04</td>\n",
       "      <td>1.0000</td>\n",
       "      <td>1.1100</td>\n",
       "      <td>1.0000</td>\n",
       "      <td>N</td>\n",
       "      <td>162</td>\n",
       "      <td>237</td>\n",
       "      <td>1.0000</td>\n",
       "      <td>5.0000</td>\n",
       "      <td>0.5000</td>\n",
       "      <td>0.5000</td>\n",
       "      <td>1.7600</td>\n",
       "      <td>0.0000</td>\n",
       "      <td>0.3000</td>\n",
       "      <td>10.5600</td>\n",
       "      <td>2.5000</td>\n",
       "    </tr>\n",
       "    <tr>\n",
       "      <th>2</th>\n",
       "      <td>1.0000</td>\n",
       "      <td>2019-09-22 07:48:51</td>\n",
       "      <td>2019-09-22 07:54:58</td>\n",
       "      <td>1.0000</td>\n",
       "      <td>1.4000</td>\n",
       "      <td>1.0000</td>\n",
       "      <td>N</td>\n",
       "      <td>238</td>\n",
       "      <td>142</td>\n",
       "      <td>1.0000</td>\n",
       "      <td>7.5000</td>\n",
       "      <td>2.5000</td>\n",
       "      <td>0.5000</td>\n",
       "      <td>2.1500</td>\n",
       "      <td>0.0000</td>\n",
       "      <td>0.3000</td>\n",
       "      <td>12.9500</td>\n",
       "      <td>2.5000</td>\n",
       "    </tr>\n",
       "    <tr>\n",
       "      <th>3</th>\n",
       "      <td>1.0000</td>\n",
       "      <td>2019-04-01 17:55:09</td>\n",
       "      <td>2019-04-01 18:11:46</td>\n",
       "      <td>1.0000</td>\n",
       "      <td>2.0000</td>\n",
       "      <td>1.0000</td>\n",
       "      <td>N</td>\n",
       "      <td>161</td>\n",
       "      <td>113</td>\n",
       "      <td>1.0000</td>\n",
       "      <td>12.0000</td>\n",
       "      <td>3.5000</td>\n",
       "      <td>0.5000</td>\n",
       "      <td>3.2500</td>\n",
       "      <td>0.0000</td>\n",
       "      <td>0.3000</td>\n",
       "      <td>19.5500</td>\n",
       "      <td>2.5000</td>\n",
       "    </tr>\n",
       "    <tr>\n",
       "      <th>4</th>\n",
       "      <td>1.0000</td>\n",
       "      <td>2019-11-25 12:46:28</td>\n",
       "      <td>2019-11-25 13:05:18</td>\n",
       "      <td>1.0000</td>\n",
       "      <td>1.5000</td>\n",
       "      <td>1.0000</td>\n",
       "      <td>N</td>\n",
       "      <td>186</td>\n",
       "      <td>163</td>\n",
       "      <td>1.0000</td>\n",
       "      <td>12.5000</td>\n",
       "      <td>2.5000</td>\n",
       "      <td>0.5000</td>\n",
       "      <td>3.1500</td>\n",
       "      <td>0.0000</td>\n",
       "      <td>0.3000</td>\n",
       "      <td>18.9500</td>\n",
       "      <td>2.5000</td>\n",
       "    </tr>\n",
       "  </tbody>\n",
       "</table>\n",
       "</div>"
      ],
      "text/plain": [
       "   VendorID tpep_pickup_datetime tpep_dropoff_datetime  passenger_count  \\\n",
       "0    2.0000  2019-09-04 14:11:41   2019-09-04 14:19:06           1.0000   \n",
       "1    2.0000  2019-09-16 20:13:59   2019-09-16 20:17:04           1.0000   \n",
       "2    1.0000  2019-09-22 07:48:51   2019-09-22 07:54:58           1.0000   \n",
       "3    1.0000  2019-04-01 17:55:09   2019-04-01 18:11:46           1.0000   \n",
       "4    1.0000  2019-11-25 12:46:28   2019-11-25 13:05:18           1.0000   \n",
       "\n",
       "   trip_distance  RatecodeID store_and_fwd_flag  PULocationID  DOLocationID  \\\n",
       "0         0.7000      1.0000                  N           137           170   \n",
       "1         1.1100      1.0000                  N           162           237   \n",
       "2         1.4000      1.0000                  N           238           142   \n",
       "3         2.0000      1.0000                  N           161           113   \n",
       "4         1.5000      1.0000                  N           186           163   \n",
       "\n",
       "   payment_type  fare_amount  extra  mta_tax  tip_amount  tolls_amount  \\\n",
       "0        1.0000       6.0000 0.0000   0.5000      1.0000        0.0000   \n",
       "1        1.0000       5.0000 0.5000   0.5000      1.7600        0.0000   \n",
       "2        1.0000       7.5000 2.5000   0.5000      2.1500        0.0000   \n",
       "3        1.0000      12.0000 3.5000   0.5000      3.2500        0.0000   \n",
       "4        1.0000      12.5000 2.5000   0.5000      3.1500        0.0000   \n",
       "\n",
       "   improvement_surcharge  total_amount  congestion_surcharge  \n",
       "0                 0.3000       10.3000                2.5000  \n",
       "1                 0.3000       10.5600                2.5000  \n",
       "2                 0.3000       12.9500                2.5000  \n",
       "3                 0.3000       19.5500                2.5000  \n",
       "4                 0.3000       18.9500                2.5000  "
      ]
     },
     "execution_count": 363,
     "metadata": {},
     "output_type": "execute_result"
    }
   ],
   "source": [
    "taxidf.head()"
   ]
  },
  {
   "cell_type": "markdown",
   "metadata": {},
   "source": [
    "## Trip Duration"
   ]
  },
  {
   "cell_type": "code",
   "execution_count": 364,
   "metadata": {},
   "outputs": [],
   "source": [
    "taxidf['tpep_pickup_datetime'] = pd.to_datetime(taxidf.loc[:, ('tpep_pickup_datetime')])\n",
    "taxidf['tpep_dropoff_datetime'] = pd.to_datetime(taxidf.loc[:, ('tpep_dropoff_datetime')])\n",
    "taxidf['duration'] =  pd.to_timedelta(taxidf.loc[:, ('tpep_dropoff_datetime')] - taxidf.loc[:, ('tpep_pickup_datetime')]) / pd.offsets.Hour(1)"
   ]
  },
  {
   "cell_type": "code",
   "execution_count": 365,
   "metadata": {},
   "outputs": [],
   "source": [
    "# get rid of invalid durations\n",
    "taxidf = taxidf[taxidf['duration'] > 0]\n",
    "taxidf = taxidf[taxidf['duration'] <= 3]"
   ]
  },
  {
   "cell_type": "markdown",
   "metadata": {},
   "source": [
    "## Date-time to day & hour"
   ]
  },
  {
   "cell_type": "code",
   "execution_count": 366,
   "metadata": {},
   "outputs": [],
   "source": [
    "taxidf['pickup_day'] = taxidf['tpep_pickup_datetime'].dt.dayofweek\n",
    "taxidf['pickup_hour'] = taxidf['tpep_pickup_datetime'].dt.hour\n",
    "\n",
    "taxidf['dropoff_day'] = taxidf['tpep_dropoff_datetime'].dt.dayofweek\n",
    "taxidf['dropoff_hour'] = taxidf['tpep_dropoff_datetime'].dt.hour\n",
    "\n",
    "taxidf['date'] = taxidf['tpep_pickup_datetime'].dt.date"
   ]
  },
  {
   "cell_type": "code",
   "execution_count": 367,
   "metadata": {},
   "outputs": [
    {
     "data": {
      "text/html": [
       "<div>\n",
       "<style scoped>\n",
       "    .dataframe tbody tr th:only-of-type {\n",
       "        vertical-align: middle;\n",
       "    }\n",
       "\n",
       "    .dataframe tbody tr th {\n",
       "        vertical-align: top;\n",
       "    }\n",
       "\n",
       "    .dataframe thead th {\n",
       "        text-align: right;\n",
       "    }\n",
       "</style>\n",
       "<table border=\"1\" class=\"dataframe\">\n",
       "  <thead>\n",
       "    <tr style=\"text-align: right;\">\n",
       "      <th></th>\n",
       "      <th>VendorID</th>\n",
       "      <th>tpep_pickup_datetime</th>\n",
       "      <th>tpep_dropoff_datetime</th>\n",
       "      <th>passenger_count</th>\n",
       "      <th>trip_distance</th>\n",
       "      <th>RatecodeID</th>\n",
       "      <th>store_and_fwd_flag</th>\n",
       "      <th>PULocationID</th>\n",
       "      <th>DOLocationID</th>\n",
       "      <th>payment_type</th>\n",
       "      <th>...</th>\n",
       "      <th>tolls_amount</th>\n",
       "      <th>improvement_surcharge</th>\n",
       "      <th>total_amount</th>\n",
       "      <th>congestion_surcharge</th>\n",
       "      <th>duration</th>\n",
       "      <th>pickup_day</th>\n",
       "      <th>pickup_hour</th>\n",
       "      <th>dropoff_day</th>\n",
       "      <th>dropoff_hour</th>\n",
       "      <th>date</th>\n",
       "    </tr>\n",
       "  </thead>\n",
       "  <tbody>\n",
       "    <tr>\n",
       "      <th>0</th>\n",
       "      <td>2.0000</td>\n",
       "      <td>2019-09-04 14:11:41</td>\n",
       "      <td>2019-09-04 14:19:06</td>\n",
       "      <td>1.0000</td>\n",
       "      <td>0.7000</td>\n",
       "      <td>1.0000</td>\n",
       "      <td>N</td>\n",
       "      <td>137</td>\n",
       "      <td>170</td>\n",
       "      <td>1.0000</td>\n",
       "      <td>...</td>\n",
       "      <td>0.0000</td>\n",
       "      <td>0.3000</td>\n",
       "      <td>10.3000</td>\n",
       "      <td>2.5000</td>\n",
       "      <td>0.1236</td>\n",
       "      <td>2</td>\n",
       "      <td>14</td>\n",
       "      <td>2</td>\n",
       "      <td>14</td>\n",
       "      <td>2019-09-04</td>\n",
       "    </tr>\n",
       "    <tr>\n",
       "      <th>1</th>\n",
       "      <td>2.0000</td>\n",
       "      <td>2019-09-16 20:13:59</td>\n",
       "      <td>2019-09-16 20:17:04</td>\n",
       "      <td>1.0000</td>\n",
       "      <td>1.1100</td>\n",
       "      <td>1.0000</td>\n",
       "      <td>N</td>\n",
       "      <td>162</td>\n",
       "      <td>237</td>\n",
       "      <td>1.0000</td>\n",
       "      <td>...</td>\n",
       "      <td>0.0000</td>\n",
       "      <td>0.3000</td>\n",
       "      <td>10.5600</td>\n",
       "      <td>2.5000</td>\n",
       "      <td>0.0514</td>\n",
       "      <td>0</td>\n",
       "      <td>20</td>\n",
       "      <td>0</td>\n",
       "      <td>20</td>\n",
       "      <td>2019-09-16</td>\n",
       "    </tr>\n",
       "    <tr>\n",
       "      <th>2</th>\n",
       "      <td>1.0000</td>\n",
       "      <td>2019-09-22 07:48:51</td>\n",
       "      <td>2019-09-22 07:54:58</td>\n",
       "      <td>1.0000</td>\n",
       "      <td>1.4000</td>\n",
       "      <td>1.0000</td>\n",
       "      <td>N</td>\n",
       "      <td>238</td>\n",
       "      <td>142</td>\n",
       "      <td>1.0000</td>\n",
       "      <td>...</td>\n",
       "      <td>0.0000</td>\n",
       "      <td>0.3000</td>\n",
       "      <td>12.9500</td>\n",
       "      <td>2.5000</td>\n",
       "      <td>0.1019</td>\n",
       "      <td>6</td>\n",
       "      <td>7</td>\n",
       "      <td>6</td>\n",
       "      <td>7</td>\n",
       "      <td>2019-09-22</td>\n",
       "    </tr>\n",
       "    <tr>\n",
       "      <th>3</th>\n",
       "      <td>1.0000</td>\n",
       "      <td>2019-04-01 17:55:09</td>\n",
       "      <td>2019-04-01 18:11:46</td>\n",
       "      <td>1.0000</td>\n",
       "      <td>2.0000</td>\n",
       "      <td>1.0000</td>\n",
       "      <td>N</td>\n",
       "      <td>161</td>\n",
       "      <td>113</td>\n",
       "      <td>1.0000</td>\n",
       "      <td>...</td>\n",
       "      <td>0.0000</td>\n",
       "      <td>0.3000</td>\n",
       "      <td>19.5500</td>\n",
       "      <td>2.5000</td>\n",
       "      <td>0.2769</td>\n",
       "      <td>0</td>\n",
       "      <td>17</td>\n",
       "      <td>0</td>\n",
       "      <td>18</td>\n",
       "      <td>2019-04-01</td>\n",
       "    </tr>\n",
       "    <tr>\n",
       "      <th>4</th>\n",
       "      <td>1.0000</td>\n",
       "      <td>2019-11-25 12:46:28</td>\n",
       "      <td>2019-11-25 13:05:18</td>\n",
       "      <td>1.0000</td>\n",
       "      <td>1.5000</td>\n",
       "      <td>1.0000</td>\n",
       "      <td>N</td>\n",
       "      <td>186</td>\n",
       "      <td>163</td>\n",
       "      <td>1.0000</td>\n",
       "      <td>...</td>\n",
       "      <td>0.0000</td>\n",
       "      <td>0.3000</td>\n",
       "      <td>18.9500</td>\n",
       "      <td>2.5000</td>\n",
       "      <td>0.3139</td>\n",
       "      <td>0</td>\n",
       "      <td>12</td>\n",
       "      <td>0</td>\n",
       "      <td>13</td>\n",
       "      <td>2019-11-25</td>\n",
       "    </tr>\n",
       "  </tbody>\n",
       "</table>\n",
       "<p>5 rows × 24 columns</p>\n",
       "</div>"
      ],
      "text/plain": [
       "   VendorID tpep_pickup_datetime tpep_dropoff_datetime  passenger_count  \\\n",
       "0    2.0000  2019-09-04 14:11:41   2019-09-04 14:19:06           1.0000   \n",
       "1    2.0000  2019-09-16 20:13:59   2019-09-16 20:17:04           1.0000   \n",
       "2    1.0000  2019-09-22 07:48:51   2019-09-22 07:54:58           1.0000   \n",
       "3    1.0000  2019-04-01 17:55:09   2019-04-01 18:11:46           1.0000   \n",
       "4    1.0000  2019-11-25 12:46:28   2019-11-25 13:05:18           1.0000   \n",
       "\n",
       "   trip_distance  RatecodeID store_and_fwd_flag  PULocationID  DOLocationID  \\\n",
       "0         0.7000      1.0000                  N           137           170   \n",
       "1         1.1100      1.0000                  N           162           237   \n",
       "2         1.4000      1.0000                  N           238           142   \n",
       "3         2.0000      1.0000                  N           161           113   \n",
       "4         1.5000      1.0000                  N           186           163   \n",
       "\n",
       "   payment_type  ...  tolls_amount  improvement_surcharge  total_amount  \\\n",
       "0        1.0000  ...        0.0000                 0.3000       10.3000   \n",
       "1        1.0000  ...        0.0000                 0.3000       10.5600   \n",
       "2        1.0000  ...        0.0000                 0.3000       12.9500   \n",
       "3        1.0000  ...        0.0000                 0.3000       19.5500   \n",
       "4        1.0000  ...        0.0000                 0.3000       18.9500   \n",
       "\n",
       "   congestion_surcharge  duration  pickup_day  pickup_hour  dropoff_day  \\\n",
       "0                2.5000    0.1236           2           14            2   \n",
       "1                2.5000    0.0514           0           20            0   \n",
       "2                2.5000    0.1019           6            7            6   \n",
       "3                2.5000    0.2769           0           17            0   \n",
       "4                2.5000    0.3139           0           12            0   \n",
       "\n",
       "   dropoff_hour        date  \n",
       "0            14  2019-09-04  \n",
       "1            20  2019-09-16  \n",
       "2             7  2019-09-22  \n",
       "3            18  2019-04-01  \n",
       "4            13  2019-11-25  \n",
       "\n",
       "[5 rows x 24 columns]"
      ]
     },
     "execution_count": 367,
     "metadata": {},
     "output_type": "execute_result"
    }
   ],
   "source": [
    "taxidf.head()"
   ]
  },
  {
   "cell_type": "code",
   "execution_count": 368,
   "metadata": {},
   "outputs": [],
   "source": [
    "model_df = taxidf[['passenger_count', 'trip_distance', 'tip_amount', 'fare_amount', 'duration', 'pickup_day', 'pickup_hour', 'dropoff_hour', 'date']]"
   ]
  },
  {
   "cell_type": "code",
   "execution_count": 369,
   "metadata": {
    "scrolled": true
   },
   "outputs": [
    {
     "data": {
      "text/html": [
       "<div>\n",
       "<style scoped>\n",
       "    .dataframe tbody tr th:only-of-type {\n",
       "        vertical-align: middle;\n",
       "    }\n",
       "\n",
       "    .dataframe tbody tr th {\n",
       "        vertical-align: top;\n",
       "    }\n",
       "\n",
       "    .dataframe thead th {\n",
       "        text-align: right;\n",
       "    }\n",
       "</style>\n",
       "<table border=\"1\" class=\"dataframe\">\n",
       "  <thead>\n",
       "    <tr style=\"text-align: right;\">\n",
       "      <th></th>\n",
       "      <th>passenger_count</th>\n",
       "      <th>trip_distance</th>\n",
       "      <th>tip_amount</th>\n",
       "      <th>fare_amount</th>\n",
       "      <th>duration</th>\n",
       "      <th>pickup_day</th>\n",
       "      <th>pickup_hour</th>\n",
       "      <th>dropoff_hour</th>\n",
       "      <th>date</th>\n",
       "    </tr>\n",
       "  </thead>\n",
       "  <tbody>\n",
       "    <tr>\n",
       "      <th>0</th>\n",
       "      <td>1.0000</td>\n",
       "      <td>0.7000</td>\n",
       "      <td>1.0000</td>\n",
       "      <td>6.0000</td>\n",
       "      <td>0.1236</td>\n",
       "      <td>2</td>\n",
       "      <td>14</td>\n",
       "      <td>14</td>\n",
       "      <td>2019-09-04</td>\n",
       "    </tr>\n",
       "    <tr>\n",
       "      <th>1</th>\n",
       "      <td>1.0000</td>\n",
       "      <td>1.1100</td>\n",
       "      <td>1.7600</td>\n",
       "      <td>5.0000</td>\n",
       "      <td>0.0514</td>\n",
       "      <td>0</td>\n",
       "      <td>20</td>\n",
       "      <td>20</td>\n",
       "      <td>2019-09-16</td>\n",
       "    </tr>\n",
       "    <tr>\n",
       "      <th>2</th>\n",
       "      <td>1.0000</td>\n",
       "      <td>1.4000</td>\n",
       "      <td>2.1500</td>\n",
       "      <td>7.5000</td>\n",
       "      <td>0.1019</td>\n",
       "      <td>6</td>\n",
       "      <td>7</td>\n",
       "      <td>7</td>\n",
       "      <td>2019-09-22</td>\n",
       "    </tr>\n",
       "    <tr>\n",
       "      <th>3</th>\n",
       "      <td>1.0000</td>\n",
       "      <td>2.0000</td>\n",
       "      <td>3.2500</td>\n",
       "      <td>12.0000</td>\n",
       "      <td>0.2769</td>\n",
       "      <td>0</td>\n",
       "      <td>17</td>\n",
       "      <td>18</td>\n",
       "      <td>2019-04-01</td>\n",
       "    </tr>\n",
       "    <tr>\n",
       "      <th>4</th>\n",
       "      <td>1.0000</td>\n",
       "      <td>1.5000</td>\n",
       "      <td>3.1500</td>\n",
       "      <td>12.5000</td>\n",
       "      <td>0.3139</td>\n",
       "      <td>0</td>\n",
       "      <td>12</td>\n",
       "      <td>13</td>\n",
       "      <td>2019-11-25</td>\n",
       "    </tr>\n",
       "  </tbody>\n",
       "</table>\n",
       "</div>"
      ],
      "text/plain": [
       "   passenger_count  trip_distance  tip_amount  fare_amount  duration  \\\n",
       "0           1.0000         0.7000      1.0000       6.0000    0.1236   \n",
       "1           1.0000         1.1100      1.7600       5.0000    0.0514   \n",
       "2           1.0000         1.4000      2.1500       7.5000    0.1019   \n",
       "3           1.0000         2.0000      3.2500      12.0000    0.2769   \n",
       "4           1.0000         1.5000      3.1500      12.5000    0.3139   \n",
       "\n",
       "   pickup_day  pickup_hour  dropoff_hour        date  \n",
       "0           2           14            14  2019-09-04  \n",
       "1           0           20            20  2019-09-16  \n",
       "2           6            7             7  2019-09-22  \n",
       "3           0           17            18  2019-04-01  \n",
       "4           0           12            13  2019-11-25  "
      ]
     },
     "execution_count": 369,
     "metadata": {},
     "output_type": "execute_result"
    }
   ],
   "source": [
    "model_df.head()"
   ]
  },
  {
   "cell_type": "code",
   "execution_count": 370,
   "metadata": {},
   "outputs": [],
   "source": [
    "# Save the combined taxi dataset in feather format\n",
    "model_df.reset_index().to_feather('model_df.feather')"
   ]
  },
  {
   "cell_type": "code",
   "execution_count": 371,
   "metadata": {},
   "outputs": [],
   "source": [
    "import feather\n",
    "model_df = feather.read_dataframe(\"model_df.feather\").drop('index', axis=1)"
   ]
  },
  {
   "cell_type": "code",
   "execution_count": 372,
   "metadata": {},
   "outputs": [
    {
     "data": {
      "text/plain": [
       "(16697202, 9)"
      ]
     },
     "execution_count": 372,
     "metadata": {},
     "output_type": "execute_result"
    }
   ],
   "source": [
    "model_df.shape"
   ]
  },
  {
   "cell_type": "markdown",
   "metadata": {},
   "source": [
    "## Weather dataset"
   ]
  },
  {
   "cell_type": "code",
   "execution_count": 374,
   "metadata": {},
   "outputs": [
    {
     "data": {
      "text/html": [
       "<div>\n",
       "<style scoped>\n",
       "    .dataframe tbody tr th:only-of-type {\n",
       "        vertical-align: middle;\n",
       "    }\n",
       "\n",
       "    .dataframe tbody tr th {\n",
       "        vertical-align: top;\n",
       "    }\n",
       "\n",
       "    .dataframe thead th {\n",
       "        text-align: right;\n",
       "    }\n",
       "</style>\n",
       "<table border=\"1\" class=\"dataframe\">\n",
       "  <thead>\n",
       "    <tr style=\"text-align: right;\">\n",
       "      <th></th>\n",
       "      <th>Unnamed: 0</th>\n",
       "      <th>date</th>\n",
       "      <th>time</th>\n",
       "      <th>condition</th>\n",
       "    </tr>\n",
       "  </thead>\n",
       "  <tbody>\n",
       "    <tr>\n",
       "      <th>0</th>\n",
       "      <td>0</td>\n",
       "      <td>2019-01-01</td>\n",
       "      <td>1:51 AM</td>\n",
       "      <td>Light Rain</td>\n",
       "    </tr>\n",
       "    <tr>\n",
       "      <th>1</th>\n",
       "      <td>1</td>\n",
       "      <td>2019-01-01</td>\n",
       "      <td>2:51 AM</td>\n",
       "      <td>Light Rain</td>\n",
       "    </tr>\n",
       "    <tr>\n",
       "      <th>2</th>\n",
       "      <td>2</td>\n",
       "      <td>2019-01-01</td>\n",
       "      <td>3:45 AM</td>\n",
       "      <td>Fog</td>\n",
       "    </tr>\n",
       "    <tr>\n",
       "      <th>3</th>\n",
       "      <td>3</td>\n",
       "      <td>2019-01-01</td>\n",
       "      <td>3:51 AM</td>\n",
       "      <td>Fog</td>\n",
       "    </tr>\n",
       "    <tr>\n",
       "      <th>4</th>\n",
       "      <td>4</td>\n",
       "      <td>2019-01-01</td>\n",
       "      <td>4:15 AM</td>\n",
       "      <td>Light Rain</td>\n",
       "    </tr>\n",
       "    <tr>\n",
       "      <th>5</th>\n",
       "      <td>5</td>\n",
       "      <td>2019-01-01</td>\n",
       "      <td>4:20 AM</td>\n",
       "      <td>Fog</td>\n",
       "    </tr>\n",
       "    <tr>\n",
       "      <th>6</th>\n",
       "      <td>6</td>\n",
       "      <td>2019-01-01</td>\n",
       "      <td>4:51 AM</td>\n",
       "      <td>Light Drizzle</td>\n",
       "    </tr>\n",
       "    <tr>\n",
       "      <th>7</th>\n",
       "      <td>7</td>\n",
       "      <td>2019-01-01</td>\n",
       "      <td>4:55 AM</td>\n",
       "      <td>Light Drizzle</td>\n",
       "    </tr>\n",
       "    <tr>\n",
       "      <th>8</th>\n",
       "      <td>8</td>\n",
       "      <td>2019-01-01</td>\n",
       "      <td>5:41 AM</td>\n",
       "      <td>Cloudy</td>\n",
       "    </tr>\n",
       "    <tr>\n",
       "      <th>9</th>\n",
       "      <td>9</td>\n",
       "      <td>2019-01-01</td>\n",
       "      <td>5:51 AM</td>\n",
       "      <td>Cloudy</td>\n",
       "    </tr>\n",
       "  </tbody>\n",
       "</table>\n",
       "</div>"
      ],
      "text/plain": [
       "   Unnamed: 0        date     time      condition\n",
       "0           0  2019-01-01  1:51 AM     Light Rain\n",
       "1           1  2019-01-01  2:51 AM     Light Rain\n",
       "2           2  2019-01-01  3:45 AM            Fog\n",
       "3           3  2019-01-01  3:51 AM            Fog\n",
       "4           4  2019-01-01  4:15 AM     Light Rain\n",
       "5           5  2019-01-01  4:20 AM            Fog\n",
       "6           6  2019-01-01  4:51 AM  Light Drizzle\n",
       "7           7  2019-01-01  4:55 AM  Light Drizzle\n",
       "8           8  2019-01-01  5:41 AM         Cloudy\n",
       "9           9  2019-01-01  5:51 AM         Cloudy"
      ]
     },
     "execution_count": 374,
     "metadata": {},
     "output_type": "execute_result"
    }
   ],
   "source": [
    "weather_df = pd.read_csv('weather2019.csv')\n",
    "weather_df.head(10)"
   ]
  },
  {
   "cell_type": "code",
   "execution_count": 375,
   "metadata": {},
   "outputs": [
    {
     "data": {
      "text/html": [
       "<div>\n",
       "<style scoped>\n",
       "    .dataframe tbody tr th:only-of-type {\n",
       "        vertical-align: middle;\n",
       "    }\n",
       "\n",
       "    .dataframe tbody tr th {\n",
       "        vertical-align: top;\n",
       "    }\n",
       "\n",
       "    .dataframe thead th {\n",
       "        text-align: right;\n",
       "    }\n",
       "</style>\n",
       "<table border=\"1\" class=\"dataframe\">\n",
       "  <thead>\n",
       "    <tr style=\"text-align: right;\">\n",
       "      <th></th>\n",
       "      <th>Unnamed: 0</th>\n",
       "      <th>date</th>\n",
       "      <th>time</th>\n",
       "      <th>condition</th>\n",
       "    </tr>\n",
       "  </thead>\n",
       "  <tbody>\n",
       "    <tr>\n",
       "      <th>0</th>\n",
       "      <td>0</td>\n",
       "      <td>2019-01-01</td>\n",
       "      <td>1</td>\n",
       "      <td>Light Rain</td>\n",
       "    </tr>\n",
       "    <tr>\n",
       "      <th>1</th>\n",
       "      <td>1</td>\n",
       "      <td>2019-01-01</td>\n",
       "      <td>2</td>\n",
       "      <td>Light Rain</td>\n",
       "    </tr>\n",
       "    <tr>\n",
       "      <th>2</th>\n",
       "      <td>2</td>\n",
       "      <td>2019-01-01</td>\n",
       "      <td>3</td>\n",
       "      <td>Fog</td>\n",
       "    </tr>\n",
       "    <tr>\n",
       "      <th>3</th>\n",
       "      <td>3</td>\n",
       "      <td>2019-01-01</td>\n",
       "      <td>3</td>\n",
       "      <td>Fog</td>\n",
       "    </tr>\n",
       "    <tr>\n",
       "      <th>4</th>\n",
       "      <td>4</td>\n",
       "      <td>2019-01-01</td>\n",
       "      <td>4</td>\n",
       "      <td>Light Rain</td>\n",
       "    </tr>\n",
       "  </tbody>\n",
       "</table>\n",
       "</div>"
      ],
      "text/plain": [
       "   Unnamed: 0        date  time   condition\n",
       "0           0  2019-01-01     1  Light Rain\n",
       "1           1  2019-01-01     2  Light Rain\n",
       "2           2  2019-01-01     3         Fog\n",
       "3           3  2019-01-01     3         Fog\n",
       "4           4  2019-01-01     4  Light Rain"
      ]
     },
     "execution_count": 375,
     "metadata": {},
     "output_type": "execute_result"
    }
   ],
   "source": [
    "weather_df[\"date\"] = pd.to_datetime(weather_df[\"date\"]).dt.date\n",
    "weather_df[\"time\"] = pd.to_datetime(weather_df[\"time\"]).dt.hour\n",
    "\n",
    "weather_df.head()"
   ]
  },
  {
   "cell_type": "markdown",
   "metadata": {},
   "source": [
    "## Preprocess weather\n",
    "assume that bad weather affects tips"
   ]
  },
  {
   "cell_type": "code",
   "execution_count": 376,
   "metadata": {},
   "outputs": [],
   "source": [
    "bad_weather = ['Fog', 'Cloudy', 'Mostly Cloudy / Windy', 'Rain', 'Partly Cloudy / Windy',\n",
    "       'Wintry Mix', 'T-Storm', 'Cloudy / Windy', 'Heavy Rain', 'Rain / Windy', 'Snow / Windy',\n",
    "       'Heavy Snow / Windy', 'Drizzle and Fog', 'Thunder', 'Light Rain with Thunder',\n",
    "       'Heavy T-Storm / Windy', 'Haze', 'Heavy T-Storm',\n",
    "       'Heavy Rain / Windy', 'Thunder in the Vicinity',\n",
    "       'T-Storm / Windy', 'Thunder / Windy', 'Light Freezing Rain']"
   ]
  },
  {
   "cell_type": "code",
   "execution_count": 377,
   "metadata": {},
   "outputs": [
    {
     "data": {
      "text/plain": [
       "23"
      ]
     },
     "execution_count": 377,
     "metadata": {},
     "output_type": "execute_result"
    }
   ],
   "source": [
    "len(bad_weather)"
   ]
  },
  {
   "cell_type": "code",
   "execution_count": 378,
   "metadata": {},
   "outputs": [
    {
     "data": {
      "text/plain": [
       "39"
      ]
     },
     "execution_count": 378,
     "metadata": {},
     "output_type": "execute_result"
    }
   ],
   "source": [
    "len(weather_df.condition.unique())"
   ]
  },
  {
   "cell_type": "code",
   "execution_count": 379,
   "metadata": {},
   "outputs": [
    {
     "data": {
      "text/html": [
       "<div>\n",
       "<style scoped>\n",
       "    .dataframe tbody tr th:only-of-type {\n",
       "        vertical-align: middle;\n",
       "    }\n",
       "\n",
       "    .dataframe tbody tr th {\n",
       "        vertical-align: top;\n",
       "    }\n",
       "\n",
       "    .dataframe thead th {\n",
       "        text-align: right;\n",
       "    }\n",
       "</style>\n",
       "<table border=\"1\" class=\"dataframe\">\n",
       "  <thead>\n",
       "    <tr style=\"text-align: right;\">\n",
       "      <th></th>\n",
       "      <th>Unnamed: 0</th>\n",
       "      <th>date</th>\n",
       "      <th>time</th>\n",
       "      <th>condition</th>\n",
       "      <th>bad_weather</th>\n",
       "    </tr>\n",
       "  </thead>\n",
       "  <tbody>\n",
       "    <tr>\n",
       "      <th>0</th>\n",
       "      <td>0</td>\n",
       "      <td>2019-01-01</td>\n",
       "      <td>1</td>\n",
       "      <td>Light Rain</td>\n",
       "      <td>0</td>\n",
       "    </tr>\n",
       "    <tr>\n",
       "      <th>1</th>\n",
       "      <td>1</td>\n",
       "      <td>2019-01-01</td>\n",
       "      <td>2</td>\n",
       "      <td>Light Rain</td>\n",
       "      <td>0</td>\n",
       "    </tr>\n",
       "    <tr>\n",
       "      <th>2</th>\n",
       "      <td>2</td>\n",
       "      <td>2019-01-01</td>\n",
       "      <td>3</td>\n",
       "      <td>Fog</td>\n",
       "      <td>1</td>\n",
       "    </tr>\n",
       "    <tr>\n",
       "      <th>3</th>\n",
       "      <td>3</td>\n",
       "      <td>2019-01-01</td>\n",
       "      <td>3</td>\n",
       "      <td>Fog</td>\n",
       "      <td>1</td>\n",
       "    </tr>\n",
       "    <tr>\n",
       "      <th>4</th>\n",
       "      <td>4</td>\n",
       "      <td>2019-01-01</td>\n",
       "      <td>4</td>\n",
       "      <td>Light Rain</td>\n",
       "      <td>0</td>\n",
       "    </tr>\n",
       "  </tbody>\n",
       "</table>\n",
       "</div>"
      ],
      "text/plain": [
       "   Unnamed: 0        date  time   condition  bad_weather\n",
       "0           0  2019-01-01     1  Light Rain            0\n",
       "1           1  2019-01-01     2  Light Rain            0\n",
       "2           2  2019-01-01     3         Fog            1\n",
       "3           3  2019-01-01     3         Fog            1\n",
       "4           4  2019-01-01     4  Light Rain            0"
      ]
     },
     "execution_count": 379,
     "metadata": {},
     "output_type": "execute_result"
    }
   ],
   "source": [
    "weather_df['bad_weather'] = weather_df['condition']\n",
    "weather_df['bad_weather'] = [1 if i in bad_weather else 0 for i in weather_df['bad_weather']]\n",
    "weather_df.head()"
   ]
  },
  {
   "cell_type": "code",
   "execution_count": 380,
   "metadata": {},
   "outputs": [
    {
     "data": {
      "text/plain": [
       "array([ 1,  2,  3,  4,  5,  6,  7,  8,  9, 10, 11, 12, 13, 14, 15, 16, 17,\n",
       "       18, 19, 20, 21, 22, 23,  0])"
      ]
     },
     "execution_count": 380,
     "metadata": {},
     "output_type": "execute_result"
    }
   ],
   "source": [
    "weather_df['time'].unique()"
   ]
  },
  {
   "cell_type": "code",
   "execution_count": 381,
   "metadata": {},
   "outputs": [],
   "source": [
    "joined_df = model_df.merge(weather_df, how='inner', left_on=[\"date\", \"pickup_hour\"], right_on=[\"date\",\"time\"])"
   ]
  },
  {
   "cell_type": "code",
   "execution_count": 382,
   "metadata": {},
   "outputs": [],
   "source": [
    "joined_df.drop('Unnamed: 0', axis='columns', inplace=True)"
   ]
  },
  {
   "cell_type": "code",
   "execution_count": 383,
   "metadata": {
    "scrolled": true
   },
   "outputs": [
    {
     "data": {
      "text/html": [
       "<div>\n",
       "<style scoped>\n",
       "    .dataframe tbody tr th:only-of-type {\n",
       "        vertical-align: middle;\n",
       "    }\n",
       "\n",
       "    .dataframe tbody tr th {\n",
       "        vertical-align: top;\n",
       "    }\n",
       "\n",
       "    .dataframe thead th {\n",
       "        text-align: right;\n",
       "    }\n",
       "</style>\n",
       "<table border=\"1\" class=\"dataframe\">\n",
       "  <thead>\n",
       "    <tr style=\"text-align: right;\">\n",
       "      <th></th>\n",
       "      <th>passenger_count</th>\n",
       "      <th>trip_distance</th>\n",
       "      <th>tip_amount</th>\n",
       "      <th>fare_amount</th>\n",
       "      <th>duration</th>\n",
       "      <th>pickup_day</th>\n",
       "      <th>pickup_hour</th>\n",
       "      <th>dropoff_hour</th>\n",
       "      <th>date</th>\n",
       "      <th>time</th>\n",
       "      <th>condition</th>\n",
       "      <th>bad_weather</th>\n",
       "    </tr>\n",
       "  </thead>\n",
       "  <tbody>\n",
       "    <tr>\n",
       "      <th>0</th>\n",
       "      <td>1.0000</td>\n",
       "      <td>0.7000</td>\n",
       "      <td>1.0000</td>\n",
       "      <td>6.0000</td>\n",
       "      <td>0.1236</td>\n",
       "      <td>2</td>\n",
       "      <td>14</td>\n",
       "      <td>14</td>\n",
       "      <td>2019-09-04</td>\n",
       "      <td>14</td>\n",
       "      <td>Mostly Cloudy</td>\n",
       "      <td>0</td>\n",
       "    </tr>\n",
       "    <tr>\n",
       "      <th>1</th>\n",
       "      <td>3.0000</td>\n",
       "      <td>2.2000</td>\n",
       "      <td>3.9600</td>\n",
       "      <td>16.5000</td>\n",
       "      <td>0.4378</td>\n",
       "      <td>2</td>\n",
       "      <td>14</td>\n",
       "      <td>14</td>\n",
       "      <td>2019-09-04</td>\n",
       "      <td>14</td>\n",
       "      <td>Mostly Cloudy</td>\n",
       "      <td>0</td>\n",
       "    </tr>\n",
       "    <tr>\n",
       "      <th>2</th>\n",
       "      <td>1.0000</td>\n",
       "      <td>2.5500</td>\n",
       "      <td>5.0000</td>\n",
       "      <td>15.5000</td>\n",
       "      <td>0.3803</td>\n",
       "      <td>2</td>\n",
       "      <td>14</td>\n",
       "      <td>14</td>\n",
       "      <td>2019-09-04</td>\n",
       "      <td>14</td>\n",
       "      <td>Mostly Cloudy</td>\n",
       "      <td>0</td>\n",
       "    </tr>\n",
       "    <tr>\n",
       "      <th>3</th>\n",
       "      <td>2.0000</td>\n",
       "      <td>16.6000</td>\n",
       "      <td>5.0000</td>\n",
       "      <td>65.0000</td>\n",
       "      <td>1.2128</td>\n",
       "      <td>2</td>\n",
       "      <td>14</td>\n",
       "      <td>15</td>\n",
       "      <td>2019-09-04</td>\n",
       "      <td>14</td>\n",
       "      <td>Mostly Cloudy</td>\n",
       "      <td>0</td>\n",
       "    </tr>\n",
       "    <tr>\n",
       "      <th>4</th>\n",
       "      <td>6.0000</td>\n",
       "      <td>0.3900</td>\n",
       "      <td>1.0000</td>\n",
       "      <td>3.5000</td>\n",
       "      <td>0.0233</td>\n",
       "      <td>2</td>\n",
       "      <td>14</td>\n",
       "      <td>14</td>\n",
       "      <td>2019-09-04</td>\n",
       "      <td>14</td>\n",
       "      <td>Mostly Cloudy</td>\n",
       "      <td>0</td>\n",
       "    </tr>\n",
       "  </tbody>\n",
       "</table>\n",
       "</div>"
      ],
      "text/plain": [
       "   passenger_count  trip_distance  tip_amount  fare_amount  duration  \\\n",
       "0           1.0000         0.7000      1.0000       6.0000    0.1236   \n",
       "1           3.0000         2.2000      3.9600      16.5000    0.4378   \n",
       "2           1.0000         2.5500      5.0000      15.5000    0.3803   \n",
       "3           2.0000        16.6000      5.0000      65.0000    1.2128   \n",
       "4           6.0000         0.3900      1.0000       3.5000    0.0233   \n",
       "\n",
       "   pickup_day  pickup_hour  dropoff_hour        date  time      condition  \\\n",
       "0           2           14            14  2019-09-04    14  Mostly Cloudy   \n",
       "1           2           14            14  2019-09-04    14  Mostly Cloudy   \n",
       "2           2           14            14  2019-09-04    14  Mostly Cloudy   \n",
       "3           2           14            15  2019-09-04    14  Mostly Cloudy   \n",
       "4           2           14            14  2019-09-04    14  Mostly Cloudy   \n",
       "\n",
       "   bad_weather  \n",
       "0            0  \n",
       "1            0  \n",
       "2            0  \n",
       "3            0  \n",
       "4            0  "
      ]
     },
     "execution_count": 383,
     "metadata": {},
     "output_type": "execute_result"
    }
   ],
   "source": [
    "joined_df.head()"
   ]
  },
  {
   "cell_type": "code",
   "execution_count": 384,
   "metadata": {
    "scrolled": false
   },
   "outputs": [],
   "source": [
    "joined_df = joined_df[~joined_df.condition.isnull()]"
   ]
  },
  {
   "cell_type": "code",
   "execution_count": 385,
   "metadata": {},
   "outputs": [
    {
     "data": {
      "text/html": [
       "<div>\n",
       "<style scoped>\n",
       "    .dataframe tbody tr th:only-of-type {\n",
       "        vertical-align: middle;\n",
       "    }\n",
       "\n",
       "    .dataframe tbody tr th {\n",
       "        vertical-align: top;\n",
       "    }\n",
       "\n",
       "    .dataframe thead th {\n",
       "        text-align: right;\n",
       "    }\n",
       "</style>\n",
       "<table border=\"1\" class=\"dataframe\">\n",
       "  <thead>\n",
       "    <tr style=\"text-align: right;\">\n",
       "      <th></th>\n",
       "      <th>passenger_count</th>\n",
       "      <th>trip_distance</th>\n",
       "      <th>tip_amount</th>\n",
       "      <th>fare_amount</th>\n",
       "      <th>duration</th>\n",
       "      <th>pickup_day</th>\n",
       "      <th>pickup_hour</th>\n",
       "      <th>dropoff_hour</th>\n",
       "      <th>date</th>\n",
       "      <th>time</th>\n",
       "      <th>condition</th>\n",
       "      <th>bad_weather</th>\n",
       "    </tr>\n",
       "  </thead>\n",
       "  <tbody>\n",
       "    <tr>\n",
       "      <th>0</th>\n",
       "      <td>1.0000</td>\n",
       "      <td>0.7000</td>\n",
       "      <td>1.0000</td>\n",
       "      <td>6.0000</td>\n",
       "      <td>0.1236</td>\n",
       "      <td>2</td>\n",
       "      <td>14</td>\n",
       "      <td>14</td>\n",
       "      <td>2019-09-04</td>\n",
       "      <td>14</td>\n",
       "      <td>Mostly Cloudy</td>\n",
       "      <td>0</td>\n",
       "    </tr>\n",
       "    <tr>\n",
       "      <th>1</th>\n",
       "      <td>3.0000</td>\n",
       "      <td>2.2000</td>\n",
       "      <td>3.9600</td>\n",
       "      <td>16.5000</td>\n",
       "      <td>0.4378</td>\n",
       "      <td>2</td>\n",
       "      <td>14</td>\n",
       "      <td>14</td>\n",
       "      <td>2019-09-04</td>\n",
       "      <td>14</td>\n",
       "      <td>Mostly Cloudy</td>\n",
       "      <td>0</td>\n",
       "    </tr>\n",
       "    <tr>\n",
       "      <th>2</th>\n",
       "      <td>1.0000</td>\n",
       "      <td>2.5500</td>\n",
       "      <td>5.0000</td>\n",
       "      <td>15.5000</td>\n",
       "      <td>0.3803</td>\n",
       "      <td>2</td>\n",
       "      <td>14</td>\n",
       "      <td>14</td>\n",
       "      <td>2019-09-04</td>\n",
       "      <td>14</td>\n",
       "      <td>Mostly Cloudy</td>\n",
       "      <td>0</td>\n",
       "    </tr>\n",
       "    <tr>\n",
       "      <th>3</th>\n",
       "      <td>2.0000</td>\n",
       "      <td>16.6000</td>\n",
       "      <td>5.0000</td>\n",
       "      <td>65.0000</td>\n",
       "      <td>1.2128</td>\n",
       "      <td>2</td>\n",
       "      <td>14</td>\n",
       "      <td>15</td>\n",
       "      <td>2019-09-04</td>\n",
       "      <td>14</td>\n",
       "      <td>Mostly Cloudy</td>\n",
       "      <td>0</td>\n",
       "    </tr>\n",
       "    <tr>\n",
       "      <th>4</th>\n",
       "      <td>6.0000</td>\n",
       "      <td>0.3900</td>\n",
       "      <td>1.0000</td>\n",
       "      <td>3.5000</td>\n",
       "      <td>0.0233</td>\n",
       "      <td>2</td>\n",
       "      <td>14</td>\n",
       "      <td>14</td>\n",
       "      <td>2019-09-04</td>\n",
       "      <td>14</td>\n",
       "      <td>Mostly Cloudy</td>\n",
       "      <td>0</td>\n",
       "    </tr>\n",
       "    <tr>\n",
       "      <th>...</th>\n",
       "      <td>...</td>\n",
       "      <td>...</td>\n",
       "      <td>...</td>\n",
       "      <td>...</td>\n",
       "      <td>...</td>\n",
       "      <td>...</td>\n",
       "      <td>...</td>\n",
       "      <td>...</td>\n",
       "      <td>...</td>\n",
       "      <td>...</td>\n",
       "      <td>...</td>\n",
       "      <td>...</td>\n",
       "    </tr>\n",
       "    <tr>\n",
       "      <th>19483991</th>\n",
       "      <td>1.0000</td>\n",
       "      <td>2.2000</td>\n",
       "      <td>1.0000</td>\n",
       "      <td>10.0000</td>\n",
       "      <td>0.1639</td>\n",
       "      <td>3</td>\n",
       "      <td>21</td>\n",
       "      <td>21</td>\n",
       "      <td>2019-01-03</td>\n",
       "      <td>21</td>\n",
       "      <td>Mostly Cloudy</td>\n",
       "      <td>0</td>\n",
       "    </tr>\n",
       "    <tr>\n",
       "      <th>19483992</th>\n",
       "      <td>1.0000</td>\n",
       "      <td>1.5000</td>\n",
       "      <td>1.9500</td>\n",
       "      <td>8.0000</td>\n",
       "      <td>0.1458</td>\n",
       "      <td>4</td>\n",
       "      <td>17</td>\n",
       "      <td>18</td>\n",
       "      <td>2019-01-18</td>\n",
       "      <td>17</td>\n",
       "      <td>Cloudy</td>\n",
       "      <td>1</td>\n",
       "    </tr>\n",
       "    <tr>\n",
       "      <th>19483993</th>\n",
       "      <td>2.0000</td>\n",
       "      <td>9.4000</td>\n",
       "      <td>7.1000</td>\n",
       "      <td>29.0000</td>\n",
       "      <td>0.4144</td>\n",
       "      <td>6</td>\n",
       "      <td>4</td>\n",
       "      <td>5</td>\n",
       "      <td>2019-01-20</td>\n",
       "      <td>4</td>\n",
       "      <td>Rain</td>\n",
       "      <td>1</td>\n",
       "    </tr>\n",
       "    <tr>\n",
       "      <th>19483994</th>\n",
       "      <td>2.0000</td>\n",
       "      <td>1.8000</td>\n",
       "      <td>3.0500</td>\n",
       "      <td>9.0000</td>\n",
       "      <td>0.1867</td>\n",
       "      <td>6</td>\n",
       "      <td>20</td>\n",
       "      <td>20</td>\n",
       "      <td>2019-01-20</td>\n",
       "      <td>20</td>\n",
       "      <td>Fair / Windy</td>\n",
       "      <td>0</td>\n",
       "    </tr>\n",
       "    <tr>\n",
       "      <th>19483995</th>\n",
       "      <td>1.0000</td>\n",
       "      <td>0.7000</td>\n",
       "      <td>1.3500</td>\n",
       "      <td>5.5000</td>\n",
       "      <td>0.0828</td>\n",
       "      <td>6</td>\n",
       "      <td>20</td>\n",
       "      <td>20</td>\n",
       "      <td>2019-01-20</td>\n",
       "      <td>20</td>\n",
       "      <td>Fair / Windy</td>\n",
       "      <td>0</td>\n",
       "    </tr>\n",
       "  </tbody>\n",
       "</table>\n",
       "<p>19479459 rows × 12 columns</p>\n",
       "</div>"
      ],
      "text/plain": [
       "          passenger_count  trip_distance  tip_amount  fare_amount  duration  \\\n",
       "0                  1.0000         0.7000      1.0000       6.0000    0.1236   \n",
       "1                  3.0000         2.2000      3.9600      16.5000    0.4378   \n",
       "2                  1.0000         2.5500      5.0000      15.5000    0.3803   \n",
       "3                  2.0000        16.6000      5.0000      65.0000    1.2128   \n",
       "4                  6.0000         0.3900      1.0000       3.5000    0.0233   \n",
       "...                   ...            ...         ...          ...       ...   \n",
       "19483991           1.0000         2.2000      1.0000      10.0000    0.1639   \n",
       "19483992           1.0000         1.5000      1.9500       8.0000    0.1458   \n",
       "19483993           2.0000         9.4000      7.1000      29.0000    0.4144   \n",
       "19483994           2.0000         1.8000      3.0500       9.0000    0.1867   \n",
       "19483995           1.0000         0.7000      1.3500       5.5000    0.0828   \n",
       "\n",
       "          pickup_day  pickup_hour  dropoff_hour        date  time  \\\n",
       "0                  2           14            14  2019-09-04    14   \n",
       "1                  2           14            14  2019-09-04    14   \n",
       "2                  2           14            14  2019-09-04    14   \n",
       "3                  2           14            15  2019-09-04    14   \n",
       "4                  2           14            14  2019-09-04    14   \n",
       "...              ...          ...           ...         ...   ...   \n",
       "19483991           3           21            21  2019-01-03    21   \n",
       "19483992           4           17            18  2019-01-18    17   \n",
       "19483993           6            4             5  2019-01-20     4   \n",
       "19483994           6           20            20  2019-01-20    20   \n",
       "19483995           6           20            20  2019-01-20    20   \n",
       "\n",
       "              condition  bad_weather  \n",
       "0         Mostly Cloudy            0  \n",
       "1         Mostly Cloudy            0  \n",
       "2         Mostly Cloudy            0  \n",
       "3         Mostly Cloudy            0  \n",
       "4         Mostly Cloudy            0  \n",
       "...                 ...          ...  \n",
       "19483991  Mostly Cloudy            0  \n",
       "19483992         Cloudy            1  \n",
       "19483993           Rain            1  \n",
       "19483994   Fair / Windy            0  \n",
       "19483995   Fair / Windy            0  \n",
       "\n",
       "[19479459 rows x 12 columns]"
      ]
     },
     "execution_count": 385,
     "metadata": {},
     "output_type": "execute_result"
    }
   ],
   "source": [
    "joined_df.dropna()"
   ]
  },
  {
   "cell_type": "code",
   "execution_count": 386,
   "metadata": {},
   "outputs": [],
   "source": [
    "# Save the combined taxi dataset in feather format\n",
    "joined_df.reset_index().to_feather('joined_df.feather')"
   ]
  },
  {
   "cell_type": "code",
   "execution_count": 1,
   "metadata": {},
   "outputs": [],
   "source": [
    "import feather\n",
    "joined_df = feather.read_dataframe(\"joined_df.feather\").drop('index', axis=1)"
   ]
  },
  {
   "cell_type": "code",
   "execution_count": 5,
   "metadata": {
    "scrolled": false
   },
   "outputs": [
    {
     "data": {
      "text/html": [
       "<div>\n",
       "<style scoped>\n",
       "    .dataframe tbody tr th:only-of-type {\n",
       "        vertical-align: middle;\n",
       "    }\n",
       "\n",
       "    .dataframe tbody tr th {\n",
       "        vertical-align: top;\n",
       "    }\n",
       "\n",
       "    .dataframe thead th {\n",
       "        text-align: right;\n",
       "    }\n",
       "</style>\n",
       "<table border=\"1\" class=\"dataframe\">\n",
       "  <thead>\n",
       "    <tr style=\"text-align: right;\">\n",
       "      <th></th>\n",
       "      <th>passenger_count</th>\n",
       "      <th>trip_distance</th>\n",
       "      <th>tip_amount</th>\n",
       "      <th>fare_amount</th>\n",
       "      <th>duration</th>\n",
       "      <th>pickup_day</th>\n",
       "      <th>pickup_hour</th>\n",
       "      <th>dropoff_hour</th>\n",
       "      <th>date</th>\n",
       "      <th>time</th>\n",
       "      <th>condition</th>\n",
       "      <th>bad_weather</th>\n",
       "    </tr>\n",
       "  </thead>\n",
       "  <tbody>\n",
       "    <tr>\n",
       "      <th>0</th>\n",
       "      <td>1.0</td>\n",
       "      <td>0.70</td>\n",
       "      <td>1.00</td>\n",
       "      <td>6.0</td>\n",
       "      <td>0.123611</td>\n",
       "      <td>2</td>\n",
       "      <td>14</td>\n",
       "      <td>14</td>\n",
       "      <td>2019-09-04</td>\n",
       "      <td>14</td>\n",
       "      <td>Mostly Cloudy</td>\n",
       "      <td>0</td>\n",
       "    </tr>\n",
       "    <tr>\n",
       "      <th>1</th>\n",
       "      <td>3.0</td>\n",
       "      <td>2.20</td>\n",
       "      <td>3.96</td>\n",
       "      <td>16.5</td>\n",
       "      <td>0.437778</td>\n",
       "      <td>2</td>\n",
       "      <td>14</td>\n",
       "      <td>14</td>\n",
       "      <td>2019-09-04</td>\n",
       "      <td>14</td>\n",
       "      <td>Mostly Cloudy</td>\n",
       "      <td>0</td>\n",
       "    </tr>\n",
       "    <tr>\n",
       "      <th>2</th>\n",
       "      <td>1.0</td>\n",
       "      <td>2.55</td>\n",
       "      <td>5.00</td>\n",
       "      <td>15.5</td>\n",
       "      <td>0.380278</td>\n",
       "      <td>2</td>\n",
       "      <td>14</td>\n",
       "      <td>14</td>\n",
       "      <td>2019-09-04</td>\n",
       "      <td>14</td>\n",
       "      <td>Mostly Cloudy</td>\n",
       "      <td>0</td>\n",
       "    </tr>\n",
       "    <tr>\n",
       "      <th>3</th>\n",
       "      <td>2.0</td>\n",
       "      <td>16.60</td>\n",
       "      <td>5.00</td>\n",
       "      <td>65.0</td>\n",
       "      <td>1.212778</td>\n",
       "      <td>2</td>\n",
       "      <td>14</td>\n",
       "      <td>15</td>\n",
       "      <td>2019-09-04</td>\n",
       "      <td>14</td>\n",
       "      <td>Mostly Cloudy</td>\n",
       "      <td>0</td>\n",
       "    </tr>\n",
       "    <tr>\n",
       "      <th>4</th>\n",
       "      <td>6.0</td>\n",
       "      <td>0.39</td>\n",
       "      <td>1.00</td>\n",
       "      <td>3.5</td>\n",
       "      <td>0.023333</td>\n",
       "      <td>2</td>\n",
       "      <td>14</td>\n",
       "      <td>14</td>\n",
       "      <td>2019-09-04</td>\n",
       "      <td>14</td>\n",
       "      <td>Mostly Cloudy</td>\n",
       "      <td>0</td>\n",
       "    </tr>\n",
       "  </tbody>\n",
       "</table>\n",
       "</div>"
      ],
      "text/plain": [
       "   passenger_count  trip_distance  tip_amount  fare_amount  duration  \\\n",
       "0              1.0           0.70        1.00          6.0  0.123611   \n",
       "1              3.0           2.20        3.96         16.5  0.437778   \n",
       "2              1.0           2.55        5.00         15.5  0.380278   \n",
       "3              2.0          16.60        5.00         65.0  1.212778   \n",
       "4              6.0           0.39        1.00          3.5  0.023333   \n",
       "\n",
       "   pickup_day  pickup_hour  dropoff_hour        date  time      condition  \\\n",
       "0           2           14            14  2019-09-04    14  Mostly Cloudy   \n",
       "1           2           14            14  2019-09-04    14  Mostly Cloudy   \n",
       "2           2           14            14  2019-09-04    14  Mostly Cloudy   \n",
       "3           2           14            15  2019-09-04    14  Mostly Cloudy   \n",
       "4           2           14            14  2019-09-04    14  Mostly Cloudy   \n",
       "\n",
       "   bad_weather  \n",
       "0            0  \n",
       "1            0  \n",
       "2            0  \n",
       "3            0  \n",
       "4            0  "
      ]
     },
     "execution_count": 5,
     "metadata": {},
     "output_type": "execute_result"
    }
   ],
   "source": [
    "joined_df.head()"
   ]
  },
  {
   "cell_type": "code",
   "execution_count": 389,
   "metadata": {
    "scrolled": false
   },
   "outputs": [
    {
     "data": {
      "text/html": [
       "<div>\n",
       "<style scoped>\n",
       "    .dataframe tbody tr th:only-of-type {\n",
       "        vertical-align: middle;\n",
       "    }\n",
       "\n",
       "    .dataframe tbody tr th {\n",
       "        vertical-align: top;\n",
       "    }\n",
       "\n",
       "    .dataframe thead th {\n",
       "        text-align: right;\n",
       "    }\n",
       "</style>\n",
       "<table border=\"1\" class=\"dataframe\">\n",
       "  <thead>\n",
       "    <tr style=\"text-align: right;\">\n",
       "      <th></th>\n",
       "      <th>passenger_count</th>\n",
       "      <th>trip_distance</th>\n",
       "      <th>tip_amount</th>\n",
       "      <th>fare_amount</th>\n",
       "      <th>duration</th>\n",
       "      <th>pickup_day</th>\n",
       "      <th>pickup_hour</th>\n",
       "      <th>dropoff_hour</th>\n",
       "      <th>time</th>\n",
       "      <th>bad_weather</th>\n",
       "    </tr>\n",
       "  </thead>\n",
       "  <tbody>\n",
       "    <tr>\n",
       "      <th>count</th>\n",
       "      <td>19,479,459.0000</td>\n",
       "      <td>19,479,459.0000</td>\n",
       "      <td>19,479,459.0000</td>\n",
       "      <td>19,479,459.0000</td>\n",
       "      <td>19,479,459.0000</td>\n",
       "      <td>19,479,459.0000</td>\n",
       "      <td>19,479,459.0000</td>\n",
       "      <td>19,479,459.0000</td>\n",
       "      <td>19,479,459.0000</td>\n",
       "      <td>19,479,459.0000</td>\n",
       "    </tr>\n",
       "    <tr>\n",
       "      <th>mean</th>\n",
       "      <td>1.5744</td>\n",
       "      <td>3.0600</td>\n",
       "      <td>3.0666</td>\n",
       "      <td>13.3788</td>\n",
       "      <td>0.2485</td>\n",
       "      <td>2.8964</td>\n",
       "      <td>13.9666</td>\n",
       "      <td>14.0096</td>\n",
       "      <td>13.9666</td>\n",
       "      <td>0.2935</td>\n",
       "    </tr>\n",
       "    <tr>\n",
       "      <th>std</th>\n",
       "      <td>1.1912</td>\n",
       "      <td>3.9239</td>\n",
       "      <td>2.8062</td>\n",
       "      <td>11.8925</td>\n",
       "      <td>0.1962</td>\n",
       "      <td>1.9114</td>\n",
       "      <td>6.0289</td>\n",
       "      <td>6.1206</td>\n",
       "      <td>6.0289</td>\n",
       "      <td>0.4554</td>\n",
       "    </tr>\n",
       "    <tr>\n",
       "      <th>min</th>\n",
       "      <td>1.0000</td>\n",
       "      <td>0.0100</td>\n",
       "      <td>0.0000</td>\n",
       "      <td>2.5000</td>\n",
       "      <td>0.0003</td>\n",
       "      <td>0.0000</td>\n",
       "      <td>0.0000</td>\n",
       "      <td>0.0000</td>\n",
       "      <td>0.0000</td>\n",
       "      <td>0.0000</td>\n",
       "    </tr>\n",
       "    <tr>\n",
       "      <th>25%</th>\n",
       "      <td>1.0000</td>\n",
       "      <td>1.0000</td>\n",
       "      <td>1.7000</td>\n",
       "      <td>6.5000</td>\n",
       "      <td>0.1178</td>\n",
       "      <td>1.0000</td>\n",
       "      <td>10.0000</td>\n",
       "      <td>10.0000</td>\n",
       "      <td>10.0000</td>\n",
       "      <td>0.0000</td>\n",
       "    </tr>\n",
       "    <tr>\n",
       "      <th>50%</th>\n",
       "      <td>1.0000</td>\n",
       "      <td>1.7000</td>\n",
       "      <td>2.3600</td>\n",
       "      <td>9.5000</td>\n",
       "      <td>0.1942</td>\n",
       "      <td>3.0000</td>\n",
       "      <td>15.0000</td>\n",
       "      <td>15.0000</td>\n",
       "      <td>15.0000</td>\n",
       "      <td>0.0000</td>\n",
       "    </tr>\n",
       "    <tr>\n",
       "      <th>75%</th>\n",
       "      <td>2.0000</td>\n",
       "      <td>3.1000</td>\n",
       "      <td>3.4600</td>\n",
       "      <td>15.0000</td>\n",
       "      <td>0.3158</td>\n",
       "      <td>4.0000</td>\n",
       "      <td>19.0000</td>\n",
       "      <td>19.0000</td>\n",
       "      <td>19.0000</td>\n",
       "      <td>1.0000</td>\n",
       "    </tr>\n",
       "    <tr>\n",
       "      <th>max</th>\n",
       "      <td>6.0000</td>\n",
       "      <td>831.8000</td>\n",
       "      <td>1,624.6400</td>\n",
       "      <td>9,022.0000</td>\n",
       "      <td>2.9983</td>\n",
       "      <td>6.0000</td>\n",
       "      <td>23.0000</td>\n",
       "      <td>23.0000</td>\n",
       "      <td>23.0000</td>\n",
       "      <td>1.0000</td>\n",
       "    </tr>\n",
       "  </tbody>\n",
       "</table>\n",
       "</div>"
      ],
      "text/plain": [
       "       passenger_count   trip_distance      tip_amount     fare_amount  \\\n",
       "count  19,479,459.0000 19,479,459.0000 19,479,459.0000 19,479,459.0000   \n",
       "mean            1.5744          3.0600          3.0666         13.3788   \n",
       "std             1.1912          3.9239          2.8062         11.8925   \n",
       "min             1.0000          0.0100          0.0000          2.5000   \n",
       "25%             1.0000          1.0000          1.7000          6.5000   \n",
       "50%             1.0000          1.7000          2.3600          9.5000   \n",
       "75%             2.0000          3.1000          3.4600         15.0000   \n",
       "max             6.0000        831.8000      1,624.6400      9,022.0000   \n",
       "\n",
       "             duration      pickup_day     pickup_hour    dropoff_hour  \\\n",
       "count 19,479,459.0000 19,479,459.0000 19,479,459.0000 19,479,459.0000   \n",
       "mean           0.2485          2.8964         13.9666         14.0096   \n",
       "std            0.1962          1.9114          6.0289          6.1206   \n",
       "min            0.0003          0.0000          0.0000          0.0000   \n",
       "25%            0.1178          1.0000         10.0000         10.0000   \n",
       "50%            0.1942          3.0000         15.0000         15.0000   \n",
       "75%            0.3158          4.0000         19.0000         19.0000   \n",
       "max            2.9983          6.0000         23.0000         23.0000   \n",
       "\n",
       "                 time     bad_weather  \n",
       "count 19,479,459.0000 19,479,459.0000  \n",
       "mean          13.9666          0.2935  \n",
       "std            6.0289          0.4554  \n",
       "min            0.0000          0.0000  \n",
       "25%           10.0000          0.0000  \n",
       "50%           15.0000          0.0000  \n",
       "75%           19.0000          1.0000  \n",
       "max           23.0000          1.0000  "
      ]
     },
     "execution_count": 389,
     "metadata": {},
     "output_type": "execute_result"
    }
   ],
   "source": [
    "joined_df.describe()"
   ]
  },
  {
   "cell_type": "code",
   "execution_count": 390,
   "metadata": {},
   "outputs": [],
   "source": [
    "sample_df = joined_df.sample(frac=0.05, replace=True, random_state=1)"
   ]
  },
  {
   "cell_type": "code",
   "execution_count": 391,
   "metadata": {
    "scrolled": false
   },
   "outputs": [
    {
     "data": {
      "image/png": "[encoded data removed]",
      "text/plain": [
       "<Figure size 432x288 with 1 Axes>"
      ]
     },
     "metadata": {
      "needs_background": "light"
     },
     "output_type": "display_data"
    }
   ],
   "source": [
    "sample_df[['tip_amount', 'fare_amount']].plot.scatter(x='fare_amount', y='tip_amount')\n",
    "plt.savefig('fare_amount.png')\n",
    "plt.show()"
   ]
  },
  {
   "cell_type": "code",
   "execution_count": 392,
   "metadata": {},
   "outputs": [],
   "source": [
    "joined_df = joined_df[joined_df['tip_amount'] < joined_df['fare_amount']]"
   ]
  },
  {
   "cell_type": "code",
   "execution_count": 393,
   "metadata": {},
   "outputs": [],
   "source": [
    "sample_df = joined_df.sample(frac=0.05, replace=True, random_state=1)"
   ]
  },
  {
   "cell_type": "code",
   "execution_count": 394,
   "metadata": {
    "scrolled": true
   },
   "outputs": [
    {
     "data": {
      "image/png": "[encoded data removed]",
      "text/plain": [
       "<Figure size 432x288 with 1 Axes>"
      ]
     },
     "metadata": {
      "needs_background": "light"
     },
     "output_type": "display_data"
    }
   ],
   "source": [
    "sample_df[['tip_amount', 'fare_amount']].plot.scatter(x='fare_amount', y='tip_amount')\n",
    "plt.savefig('fare_amount2.png')\n",
    "plt.show()"
   ]
  },
  {
   "cell_type": "code",
   "execution_count": 395,
   "metadata": {
    "scrolled": false
   },
   "outputs": [
    {
     "data": {
      "text/html": [
       "<div>\n",
       "<style scoped>\n",
       "    .dataframe tbody tr th:only-of-type {\n",
       "        vertical-align: middle;\n",
       "    }\n",
       "\n",
       "    .dataframe tbody tr th {\n",
       "        vertical-align: top;\n",
       "    }\n",
       "\n",
       "    .dataframe thead th {\n",
       "        text-align: right;\n",
       "    }\n",
       "</style>\n",
       "<table border=\"1\" class=\"dataframe\">\n",
       "  <thead>\n",
       "    <tr style=\"text-align: right;\">\n",
       "      <th></th>\n",
       "      <th>passenger_count</th>\n",
       "      <th>trip_distance</th>\n",
       "      <th>tip_amount</th>\n",
       "      <th>fare_amount</th>\n",
       "      <th>duration</th>\n",
       "      <th>pickup_day</th>\n",
       "      <th>pickup_hour</th>\n",
       "      <th>dropoff_hour</th>\n",
       "      <th>time</th>\n",
       "      <th>bad_weather</th>\n",
       "    </tr>\n",
       "  </thead>\n",
       "  <tbody>\n",
       "    <tr>\n",
       "      <th>0</th>\n",
       "      <td>1.0000</td>\n",
       "      <td>3.0266</td>\n",
       "      <td>3.0231</td>\n",
       "      <td>13.2825</td>\n",
       "      <td>0.2468</td>\n",
       "      <td>2.8393</td>\n",
       "      <td>13.8597</td>\n",
       "      <td>13.9089</td>\n",
       "      <td>13.8597</td>\n",
       "      <td>0.2945</td>\n",
       "    </tr>\n",
       "    <tr>\n",
       "      <th>1</th>\n",
       "      <td>2.0000</td>\n",
       "      <td>3.1934</td>\n",
       "      <td>3.1402</td>\n",
       "      <td>13.8207</td>\n",
       "      <td>0.2563</td>\n",
       "      <td>3.0696</td>\n",
       "      <td>14.3784</td>\n",
       "      <td>14.4022</td>\n",
       "      <td>14.3784</td>\n",
       "      <td>0.2901</td>\n",
       "    </tr>\n",
       "    <tr>\n",
       "      <th>2</th>\n",
       "      <td>3.0000</td>\n",
       "      <td>3.1089</td>\n",
       "      <td>3.1012</td>\n",
       "      <td>13.5700</td>\n",
       "      <td>0.2527</td>\n",
       "      <td>3.0795</td>\n",
       "      <td>14.3360</td>\n",
       "      <td>14.3640</td>\n",
       "      <td>14.3360</td>\n",
       "      <td>0.2887</td>\n",
       "    </tr>\n",
       "    <tr>\n",
       "      <th>3</th>\n",
       "      <td>4.0000</td>\n",
       "      <td>3.1609</td>\n",
       "      <td>3.1544</td>\n",
       "      <td>13.7967</td>\n",
       "      <td>0.2557</td>\n",
       "      <td>3.1540</td>\n",
       "      <td>14.3588</td>\n",
       "      <td>14.3754</td>\n",
       "      <td>14.3588</td>\n",
       "      <td>0.2891</td>\n",
       "    </tr>\n",
       "    <tr>\n",
       "      <th>4</th>\n",
       "      <td>5.0000</td>\n",
       "      <td>3.0824</td>\n",
       "      <td>3.0976</td>\n",
       "      <td>13.2518</td>\n",
       "      <td>0.2456</td>\n",
       "      <td>2.9482</td>\n",
       "      <td>14.0446</td>\n",
       "      <td>14.0644</td>\n",
       "      <td>14.0446</td>\n",
       "      <td>0.2944</td>\n",
       "    </tr>\n",
       "  </tbody>\n",
       "</table>\n",
       "</div>"
      ],
      "text/plain": [
       "   passenger_count  trip_distance  tip_amount  fare_amount  duration  \\\n",
       "0           1.0000         3.0266      3.0231      13.2825    0.2468   \n",
       "1           2.0000         3.1934      3.1402      13.8207    0.2563   \n",
       "2           3.0000         3.1089      3.1012      13.5700    0.2527   \n",
       "3           4.0000         3.1609      3.1544      13.7967    0.2557   \n",
       "4           5.0000         3.0824      3.0976      13.2518    0.2456   \n",
       "\n",
       "   pickup_day  pickup_hour  dropoff_hour    time  bad_weather  \n",
       "0      2.8393      13.8597       13.9089 13.8597       0.2945  \n",
       "1      3.0696      14.3784       14.4022 14.3784       0.2901  \n",
       "2      3.0795      14.3360       14.3640 14.3360       0.2887  \n",
       "3      3.1540      14.3588       14.3754 14.3588       0.2891  \n",
       "4      2.9482      14.0446       14.0644 14.0446       0.2944  "
      ]
     },
     "execution_count": 395,
     "metadata": {},
     "output_type": "execute_result"
    }
   ],
   "source": [
    "passenger_group = joined_df.groupby('passenger_count', as_index=False).mean()\n",
    "passenger_group.head()"
   ]
  },
  {
   "cell_type": "code",
   "execution_count": 401,
   "metadata": {
    "scrolled": true
   },
   "outputs": [
    {
     "name": "stderr",
     "output_type": "stream",
     "text": [
      "No handles with labels found to put in legend.\n"
     ]
    },
    {
     "data": {
      "image/png": "[encoded data removed]",
      "text/plain": [
       "<Figure size 720x288 with 1 Axes>"
      ]
     },
     "metadata": {
      "needs_background": "light"
     },
     "output_type": "display_data"
    }
   ],
   "source": [
    "plt.figure(figsize = (10, 4))\n",
    "plt.bar(passenger_group['passenger_count'], passenger_group['tip_amount'])\n",
    "plt.title('Mean Tip Amount vs Passnger Count')\n",
    "plt.xlabel('Passnger Count')\n",
    "plt.ylabel('Mean Tip Amount')\n",
    "plt.legend(loc='best')\n",
    "plt.savefig('passenger_count.png')\n",
    "plt.show()"
   ]
  },
  {
   "cell_type": "code",
   "execution_count": 402,
   "metadata": {
    "scrolled": false
   },
   "outputs": [
    {
     "data": {
      "text/html": [
       "<div>\n",
       "<style scoped>\n",
       "    .dataframe tbody tr th:only-of-type {\n",
       "        vertical-align: middle;\n",
       "    }\n",
       "\n",
       "    .dataframe tbody tr th {\n",
       "        vertical-align: top;\n",
       "    }\n",
       "\n",
       "    .dataframe thead th {\n",
       "        text-align: right;\n",
       "    }\n",
       "</style>\n",
       "<table border=\"1\" class=\"dataframe\">\n",
       "  <thead>\n",
       "    <tr style=\"text-align: right;\">\n",
       "      <th></th>\n",
       "      <th>pickup_hour</th>\n",
       "      <th>passenger_count</th>\n",
       "      <th>trip_distance</th>\n",
       "      <th>tip_amount</th>\n",
       "      <th>fare_amount</th>\n",
       "      <th>duration</th>\n",
       "      <th>pickup_day</th>\n",
       "      <th>dropoff_hour</th>\n",
       "      <th>time</th>\n",
       "      <th>bad_weather</th>\n",
       "    </tr>\n",
       "  </thead>\n",
       "  <tbody>\n",
       "    <tr>\n",
       "      <th>0</th>\n",
       "      <td>0</td>\n",
       "      <td>1.6227</td>\n",
       "      <td>3.6810</td>\n",
       "      <td>3.1519</td>\n",
       "      <td>14.0205</td>\n",
       "      <td>0.2198</td>\n",
       "      <td>3.8501</td>\n",
       "      <td>0.1844</td>\n",
       "      <td>0.0000</td>\n",
       "      <td>0.3217</td>\n",
       "    </tr>\n",
       "    <tr>\n",
       "      <th>1</th>\n",
       "      <td>1</td>\n",
       "      <td>1.6231</td>\n",
       "      <td>3.3671</td>\n",
       "      <td>2.9048</td>\n",
       "      <td>12.9274</td>\n",
       "      <td>0.2000</td>\n",
       "      <td>4.2015</td>\n",
       "      <td>1.1690</td>\n",
       "      <td>1.0000</td>\n",
       "      <td>0.2756</td>\n",
       "    </tr>\n",
       "    <tr>\n",
       "      <th>2</th>\n",
       "      <td>2</td>\n",
       "      <td>1.6355</td>\n",
       "      <td>3.1586</td>\n",
       "      <td>2.7361</td>\n",
       "      <td>12.2537</td>\n",
       "      <td>0.1877</td>\n",
       "      <td>4.4302</td>\n",
       "      <td>2.1553</td>\n",
       "      <td>2.0000</td>\n",
       "      <td>0.2371</td>\n",
       "    </tr>\n",
       "    <tr>\n",
       "      <th>3</th>\n",
       "      <td>3</td>\n",
       "      <td>1.6342</td>\n",
       "      <td>3.3470</td>\n",
       "      <td>2.7759</td>\n",
       "      <td>12.7219</td>\n",
       "      <td>0.1884</td>\n",
       "      <td>4.5610</td>\n",
       "      <td>3.1704</td>\n",
       "      <td>3.0000</td>\n",
       "      <td>0.2878</td>\n",
       "    </tr>\n",
       "    <tr>\n",
       "      <th>4</th>\n",
       "      <td>4</td>\n",
       "      <td>1.5931</td>\n",
       "      <td>4.6811</td>\n",
       "      <td>3.4852</td>\n",
       "      <td>16.3408</td>\n",
       "      <td>0.2111</td>\n",
       "      <td>3.9692</td>\n",
       "      <td>4.1789</td>\n",
       "      <td>4.0000</td>\n",
       "      <td>0.2651</td>\n",
       "    </tr>\n",
       "  </tbody>\n",
       "</table>\n",
       "</div>"
      ],
      "text/plain": [
       "   pickup_hour  passenger_count  trip_distance  tip_amount  fare_amount  \\\n",
       "0            0           1.6227         3.6810      3.1519      14.0205   \n",
       "1            1           1.6231         3.3671      2.9048      12.9274   \n",
       "2            2           1.6355         3.1586      2.7361      12.2537   \n",
       "3            3           1.6342         3.3470      2.7759      12.7219   \n",
       "4            4           1.5931         4.6811      3.4852      16.3408   \n",
       "\n",
       "   duration  pickup_day  dropoff_hour   time  bad_weather  \n",
       "0    0.2198      3.8501        0.1844 0.0000       0.3217  \n",
       "1    0.2000      4.2015        1.1690 1.0000       0.2756  \n",
       "2    0.1877      4.4302        2.1553 2.0000       0.2371  \n",
       "3    0.1884      4.5610        3.1704 3.0000       0.2878  \n",
       "4    0.2111      3.9692        4.1789 4.0000       0.2651  "
      ]
     },
     "execution_count": 402,
     "metadata": {},
     "output_type": "execute_result"
    }
   ],
   "source": [
    "pickup_hour_group = joined_df.groupby('pickup_hour', as_index=False).mean()\n",
    "pickup_hour_group.head()"
   ]
  },
  {
   "cell_type": "code",
   "execution_count": 403,
   "metadata": {
    "scrolled": true
   },
   "outputs": [
    {
     "data": {
      "image/png": "[encoded data removed]",
      "text/plain": [
       "<Figure size 720x288 with 1 Axes>"
      ]
     },
     "metadata": {
      "needs_background": "light"
     },
     "output_type": "display_data"
    }
   ],
   "source": [
    "plt.figure(figsize = (10, 4))\n",
    "plt.plot(pickup_hour_group['pickup_hour'], pickup_hour_group['tip_amount'], marker='o', label='mean tip amount')\n",
    "plt.title('Tip Amount vs Hour of Day')\n",
    "plt.xlabel('Pickup Hour')\n",
    "plt.ylabel('Tip Amount')\n",
    "plt.legend(loc='best')\n",
    "plt.savefig('pickup_hour.png')\n",
    "plt.show()"
   ]
  },
  {
   "cell_type": "code",
   "execution_count": 6,
   "metadata": {
    "scrolled": true
   },
   "outputs": [
    {
     "data": {
      "text/html": [
       "<div>\n",
       "<style scoped>\n",
       "    .dataframe tbody tr th:only-of-type {\n",
       "        vertical-align: middle;\n",
       "    }\n",
       "\n",
       "    .dataframe tbody tr th {\n",
       "        vertical-align: top;\n",
       "    }\n",
       "\n",
       "    .dataframe thead th {\n",
       "        text-align: right;\n",
       "    }\n",
       "</style>\n",
       "<table border=\"1\" class=\"dataframe\">\n",
       "  <thead>\n",
       "    <tr style=\"text-align: right;\">\n",
       "      <th></th>\n",
       "      <th>pickup_day</th>\n",
       "      <th>passenger_count</th>\n",
       "      <th>trip_distance</th>\n",
       "      <th>tip_amount</th>\n",
       "      <th>fare_amount</th>\n",
       "      <th>duration</th>\n",
       "      <th>pickup_hour</th>\n",
       "      <th>dropoff_hour</th>\n",
       "      <th>time</th>\n",
       "      <th>bad_weather</th>\n",
       "    </tr>\n",
       "  </thead>\n",
       "  <tbody>\n",
       "    <tr>\n",
       "      <th>0</th>\n",
       "      <td>0</td>\n",
       "      <td>1.546822</td>\n",
       "      <td>3.222035</td>\n",
       "      <td>3.133605</td>\n",
       "      <td>13.591298</td>\n",
       "      <td>0.243063</td>\n",
       "      <td>14.317267</td>\n",
       "      <td>14.419189</td>\n",
       "      <td>14.317267</td>\n",
       "      <td>0.273651</td>\n",
       "    </tr>\n",
       "    <tr>\n",
       "      <th>1</th>\n",
       "      <td>1</td>\n",
       "      <td>1.543097</td>\n",
       "      <td>2.947529</td>\n",
       "      <td>3.043403</td>\n",
       "      <td>13.169457</td>\n",
       "      <td>0.248966</td>\n",
       "      <td>14.189773</td>\n",
       "      <td>14.300816</td>\n",
       "      <td>14.189773</td>\n",
       "      <td>0.314546</td>\n",
       "    </tr>\n",
       "    <tr>\n",
       "      <th>2</th>\n",
       "      <td>2</td>\n",
       "      <td>1.543544</td>\n",
       "      <td>2.951736</td>\n",
       "      <td>3.087801</td>\n",
       "      <td>13.338362</td>\n",
       "      <td>0.256493</td>\n",
       "      <td>14.670287</td>\n",
       "      <td>14.751465</td>\n",
       "      <td>14.670287</td>\n",
       "      <td>0.318380</td>\n",
       "    </tr>\n",
       "    <tr>\n",
       "      <th>3</th>\n",
       "      <td>3</td>\n",
       "      <td>1.549613</td>\n",
       "      <td>3.007020</td>\n",
       "      <td>3.130719</td>\n",
       "      <td>13.651064</td>\n",
       "      <td>0.266528</td>\n",
       "      <td>14.369156</td>\n",
       "      <td>14.399553</td>\n",
       "      <td>14.369156</td>\n",
       "      <td>0.319116</td>\n",
       "    </tr>\n",
       "    <tr>\n",
       "      <th>4</th>\n",
       "      <td>4</td>\n",
       "      <td>1.574967</td>\n",
       "      <td>3.036934</td>\n",
       "      <td>3.085624</td>\n",
       "      <td>13.536167</td>\n",
       "      <td>0.258789</td>\n",
       "      <td>13.766306</td>\n",
       "      <td>13.747248</td>\n",
       "      <td>13.766306</td>\n",
       "      <td>0.301058</td>\n",
       "    </tr>\n",
       "  </tbody>\n",
       "</table>\n",
       "</div>"
      ],
      "text/plain": [
       "   pickup_day  passenger_count  trip_distance  tip_amount  fare_amount  \\\n",
       "0           0         1.546822       3.222035    3.133605    13.591298   \n",
       "1           1         1.543097       2.947529    3.043403    13.169457   \n",
       "2           2         1.543544       2.951736    3.087801    13.338362   \n",
       "3           3         1.549613       3.007020    3.130719    13.651064   \n",
       "4           4         1.574967       3.036934    3.085624    13.536167   \n",
       "\n",
       "   duration  pickup_hour  dropoff_hour       time  bad_weather  \n",
       "0  0.243063    14.317267     14.419189  14.317267     0.273651  \n",
       "1  0.248966    14.189773     14.300816  14.189773     0.314546  \n",
       "2  0.256493    14.670287     14.751465  14.670287     0.318380  \n",
       "3  0.266528    14.369156     14.399553  14.369156     0.319116  \n",
       "4  0.258789    13.766306     13.747248  13.766306     0.301058  "
      ]
     },
     "execution_count": 6,
     "metadata": {},
     "output_type": "execute_result"
    }
   ],
   "source": [
    "pickup_day_group = joined_df.groupby('pickup_day', as_index=False).mean()\n",
    "pickup_day_group.head()"
   ]
  },
  {
   "cell_type": "code",
   "execution_count": 12,
   "metadata": {},
   "outputs": [
    {
     "data": {
      "image/png": "[encoded data removed]",
      "text/plain": [
       "<Figure size 720x288 with 1 Axes>"
      ]
     },
     "metadata": {
      "needs_background": "light"
     },
     "output_type": "display_data"
    }
   ],
   "source": [
    "plt.figure(figsize = (10, 4))\n",
    "plt.plot(pickup_day_group['pickup_day'], pickup_day_group['tip_amount'], marker='o', label='mean tip amount')\n",
    "plt.title('Tip Amount vs Day of Week')\n",
    "plt.xlabel('Day')\n",
    "plt.ylabel('Tip Amount')\n",
    "plt.legend(loc='best')\n",
    "plt.savefig('pickup_day.png')\n",
    "plt.show()\n",
    "# 0 is monday and 6 is sunday"
   ]
  },
  {
   "cell_type": "code",
   "execution_count": 8,
   "metadata": {
    "scrolled": true
   },
   "outputs": [
    {
     "data": {
      "text/html": [
       "<div>\n",
       "<style scoped>\n",
       "    .dataframe tbody tr th:only-of-type {\n",
       "        vertical-align: middle;\n",
       "    }\n",
       "\n",
       "    .dataframe tbody tr th {\n",
       "        vertical-align: top;\n",
       "    }\n",
       "\n",
       "    .dataframe thead th {\n",
       "        text-align: right;\n",
       "    }\n",
       "</style>\n",
       "<table border=\"1\" class=\"dataframe\">\n",
       "  <thead>\n",
       "    <tr style=\"text-align: right;\">\n",
       "      <th></th>\n",
       "      <th>bad_weather</th>\n",
       "      <th>passenger_count</th>\n",
       "      <th>trip_distance</th>\n",
       "      <th>tip_amount</th>\n",
       "      <th>fare_amount</th>\n",
       "      <th>duration</th>\n",
       "      <th>pickup_day</th>\n",
       "      <th>pickup_hour</th>\n",
       "      <th>dropoff_hour</th>\n",
       "      <th>time</th>\n",
       "    </tr>\n",
       "  </thead>\n",
       "  <tbody>\n",
       "    <tr>\n",
       "      <th>0</th>\n",
       "      <td>0</td>\n",
       "      <td>1.575845</td>\n",
       "      <td>3.072911</td>\n",
       "      <td>3.066073</td>\n",
       "      <td>13.381371</td>\n",
       "      <td>0.247516</td>\n",
       "      <td>2.930075</td>\n",
       "      <td>13.972538</td>\n",
       "      <td>14.020816</td>\n",
       "      <td>13.972538</td>\n",
       "    </tr>\n",
       "    <tr>\n",
       "      <th>1</th>\n",
       "      <td>1</td>\n",
       "      <td>1.571070</td>\n",
       "      <td>3.029044</td>\n",
       "      <td>3.067790</td>\n",
       "      <td>13.372675</td>\n",
       "      <td>0.250905</td>\n",
       "      <td>2.815252</td>\n",
       "      <td>13.952300</td>\n",
       "      <td>13.982766</td>\n",
       "      <td>13.952300</td>\n",
       "    </tr>\n",
       "  </tbody>\n",
       "</table>\n",
       "</div>"
      ],
      "text/plain": [
       "   bad_weather  passenger_count  trip_distance  tip_amount  fare_amount  \\\n",
       "0            0         1.575845       3.072911    3.066073    13.381371   \n",
       "1            1         1.571070       3.029044    3.067790    13.372675   \n",
       "\n",
       "   duration  pickup_day  pickup_hour  dropoff_hour       time  \n",
       "0  0.247516    2.930075    13.972538     14.020816  13.972538  \n",
       "1  0.250905    2.815252    13.952300     13.982766  13.952300  "
      ]
     },
     "execution_count": 8,
     "metadata": {},
     "output_type": "execute_result"
    }
   ],
   "source": [
    "weather_group = joined_df.groupby('bad_weather', as_index=False).mean()\n",
    "weather_group.head()"
   ]
  },
  {
   "cell_type": "code",
   "execution_count": 13,
   "metadata": {},
   "outputs": [
    {
     "name": "stderr",
     "output_type": "stream",
     "text": [
      "No handles with labels found to put in legend.\n"
     ]
    },
    {
     "data": {
      "image/png": "[encoded data removed]",
      "text/plain": [
       "<Figure size 720x288 with 1 Axes>"
      ]
     },
     "metadata": {
      "needs_background": "light"
     },
     "output_type": "display_data"
    }
   ],
   "source": [
    "plt.figure(figsize = (10, 4))\n",
    "plt.bar(weather_group['bad_weather'], weather_group['tip_amount'])\n",
    "plt.title('Tip Amount vs Weather')\n",
    "plt.xlabel('Bad Weather')\n",
    "plt.ylabel('Tip Amount')\n",
    "plt.legend(loc='best')\n",
    "plt.savefig('weather.png')\n",
    "plt.show()\n",
    "# 0 is monday and 6 is sunday"
   ]
  },
  {
   "cell_type": "markdown",
   "metadata": {},
   "source": [
    "## Train test Split"
   ]
  },
  {
   "cell_type": "code",
   "execution_count": 303,
   "metadata": {},
   "outputs": [],
   "source": [
    "import feather\n",
    "joined_df = feather.read_dataframe(\"joined_df.feather\").drop('index', axis=1)"
   ]
  },
  {
   "cell_type": "code",
   "execution_count": 304,
   "metadata": {},
   "outputs": [
    {
     "data": {
      "text/html": [
       "<div>\n",
       "<style scoped>\n",
       "    .dataframe tbody tr th:only-of-type {\n",
       "        vertical-align: middle;\n",
       "    }\n",
       "\n",
       "    .dataframe tbody tr th {\n",
       "        vertical-align: top;\n",
       "    }\n",
       "\n",
       "    .dataframe thead th {\n",
       "        text-align: right;\n",
       "    }\n",
       "</style>\n",
       "<table border=\"1\" class=\"dataframe\">\n",
       "  <thead>\n",
       "    <tr style=\"text-align: right;\">\n",
       "      <th></th>\n",
       "      <th>passenger_count</th>\n",
       "      <th>trip_distance</th>\n",
       "      <th>tip_amount</th>\n",
       "      <th>fare_amount</th>\n",
       "      <th>duration</th>\n",
       "      <th>pickup_day</th>\n",
       "      <th>pickup_hour</th>\n",
       "      <th>dropoff_hour</th>\n",
       "      <th>date</th>\n",
       "      <th>time</th>\n",
       "      <th>condition</th>\n",
       "      <th>bad_weather</th>\n",
       "    </tr>\n",
       "  </thead>\n",
       "  <tbody>\n",
       "    <tr>\n",
       "      <th>11462964</th>\n",
       "      <td>4.0000</td>\n",
       "      <td>11.3500</td>\n",
       "      <td>5.0000</td>\n",
       "      <td>37.0000</td>\n",
       "      <td>0.6978</td>\n",
       "      <td>3</td>\n",
       "      <td>12</td>\n",
       "      <td>13</td>\n",
       "      <td>2019-06-20</td>\n",
       "      <td>12</td>\n",
       "      <td>Haze</td>\n",
       "      <td>1</td>\n",
       "    </tr>\n",
       "    <tr>\n",
       "      <th>5417414</th>\n",
       "      <td>1.0000</td>\n",
       "      <td>0.6200</td>\n",
       "      <td>1.0000</td>\n",
       "      <td>5.0000</td>\n",
       "      <td>0.0875</td>\n",
       "      <td>2</td>\n",
       "      <td>19</td>\n",
       "      <td>19</td>\n",
       "      <td>2019-03-06</td>\n",
       "      <td>19</td>\n",
       "      <td>Fair</td>\n",
       "      <td>0</td>\n",
       "    </tr>\n",
       "    <tr>\n",
       "      <th>12131014</th>\n",
       "      <td>1.0000</td>\n",
       "      <td>1.4000</td>\n",
       "      <td>1.5500</td>\n",
       "      <td>7.0000</td>\n",
       "      <td>0.1106</td>\n",
       "      <td>2</td>\n",
       "      <td>7</td>\n",
       "      <td>7</td>\n",
       "      <td>2019-03-20</td>\n",
       "      <td>7</td>\n",
       "      <td>Fair</td>\n",
       "      <td>0</td>\n",
       "    </tr>\n",
       "    <tr>\n",
       "      <th>13186638</th>\n",
       "      <td>1.0000</td>\n",
       "      <td>10.8700</td>\n",
       "      <td>7.0000</td>\n",
       "      <td>32.0000</td>\n",
       "      <td>0.3844</td>\n",
       "      <td>0</td>\n",
       "      <td>11</td>\n",
       "      <td>11</td>\n",
       "      <td>2019-08-12</td>\n",
       "      <td>11</td>\n",
       "      <td>Fair</td>\n",
       "      <td>0</td>\n",
       "    </tr>\n",
       "    <tr>\n",
       "      <th>16614738</th>\n",
       "      <td>1.0000</td>\n",
       "      <td>11.2000</td>\n",
       "      <td>7.2600</td>\n",
       "      <td>32.5000</td>\n",
       "      <td>0.3944</td>\n",
       "      <td>0</td>\n",
       "      <td>23</td>\n",
       "      <td>23</td>\n",
       "      <td>2019-03-25</td>\n",
       "      <td>23</td>\n",
       "      <td>Mostly Cloudy</td>\n",
       "      <td>0</td>\n",
       "    </tr>\n",
       "  </tbody>\n",
       "</table>\n",
       "</div>"
      ],
      "text/plain": [
       "          passenger_count  trip_distance  tip_amount  fare_amount  duration  \\\n",
       "11462964           4.0000        11.3500      5.0000      37.0000    0.6978   \n",
       "5417414            1.0000         0.6200      1.0000       5.0000    0.0875   \n",
       "12131014           1.0000         1.4000      1.5500       7.0000    0.1106   \n",
       "13186638           1.0000        10.8700      7.0000      32.0000    0.3844   \n",
       "16614738           1.0000        11.2000      7.2600      32.5000    0.3944   \n",
       "\n",
       "          pickup_day  pickup_hour  dropoff_hour        date  time  \\\n",
       "11462964           3           12            13  2019-06-20    12   \n",
       "5417414            2           19            19  2019-03-06    19   \n",
       "12131014           2            7             7  2019-03-20     7   \n",
       "13186638           0           11            11  2019-08-12    11   \n",
       "16614738           0           23            23  2019-03-25    23   \n",
       "\n",
       "              condition  bad_weather  \n",
       "11462964           Haze            1  \n",
       "5417414            Fair            0  \n",
       "12131014           Fair            0  \n",
       "13186638           Fair            0  \n",
       "16614738  Mostly Cloudy            0  "
      ]
     },
     "execution_count": 304,
     "metadata": {},
     "output_type": "execute_result"
    }
   ],
   "source": [
    "joined_df = joined_df.sample(frac =.05) \n",
    "joined_df.head()"
   ]
  },
  {
   "cell_type": "code",
   "execution_count": 2,
   "metadata": {},
   "outputs": [],
   "source": [
    "joined_df = joined_df[['tip_amount', 'fare_amount', 'passenger_count', 'duration', 'pickup_day', 'pickup_hour']]"
   ]
  },
  {
   "cell_type": "code",
   "execution_count": 3,
   "metadata": {},
   "outputs": [
    {
     "data": {
      "text/plain": [
       "(19479459, 6)"
      ]
     },
     "execution_count": 3,
     "metadata": {},
     "output_type": "execute_result"
    }
   ],
   "source": [
    "joined_df.shape"
   ]
  },
  {
   "cell_type": "code",
   "execution_count": 4,
   "metadata": {},
   "outputs": [],
   "source": [
    "from sklearn.model_selection import train_test_split\n",
    "\n",
    "train, test = train_test_split(joined_df, test_size=0.33, random_state=42)"
   ]
  },
  {
   "cell_type": "code",
   "execution_count": 5,
   "metadata": {},
   "outputs": [
    {
     "data": {
      "text/plain": [
       "(6428222, 6)"
      ]
     },
     "execution_count": 5,
     "metadata": {},
     "output_type": "execute_result"
    }
   ],
   "source": [
    "test.shape"
   ]
  },
  {
   "cell_type": "code",
   "execution_count": 6,
   "metadata": {},
   "outputs": [
    {
     "data": {
      "text/plain": [
       "(13051237, 6)"
      ]
     },
     "execution_count": 6,
     "metadata": {},
     "output_type": "execute_result"
    }
   ],
   "source": [
    "train.shape"
   ]
  },
  {
   "cell_type": "markdown",
   "metadata": {},
   "source": [
    "## Random Forest"
   ]
  },
  {
   "cell_type": "code",
   "execution_count": 7,
   "metadata": {},
   "outputs": [
    {
     "data": {
      "text/html": [
       "<div>\n",
       "<style scoped>\n",
       "    .dataframe tbody tr th:only-of-type {\n",
       "        vertical-align: middle;\n",
       "    }\n",
       "\n",
       "    .dataframe tbody tr th {\n",
       "        vertical-align: top;\n",
       "    }\n",
       "\n",
       "    .dataframe thead th {\n",
       "        text-align: right;\n",
       "    }\n",
       "</style>\n",
       "<table border=\"1\" class=\"dataframe\">\n",
       "  <thead>\n",
       "    <tr style=\"text-align: right;\">\n",
       "      <th></th>\n",
       "      <th>tip_amount</th>\n",
       "      <th>fare_amount</th>\n",
       "      <th>passenger_count</th>\n",
       "      <th>duration</th>\n",
       "      <th>pickup_day</th>\n",
       "      <th>pickup_hour</th>\n",
       "    </tr>\n",
       "  </thead>\n",
       "  <tbody>\n",
       "    <tr>\n",
       "      <th>13718037</th>\n",
       "      <td>4.26</td>\n",
       "      <td>17.0</td>\n",
       "      <td>1.0</td>\n",
       "      <td>0.385278</td>\n",
       "      <td>3</td>\n",
       "      <td>17</td>\n",
       "    </tr>\n",
       "    <tr>\n",
       "      <th>3853218</th>\n",
       "      <td>1.85</td>\n",
       "      <td>6.0</td>\n",
       "      <td>3.0</td>\n",
       "      <td>0.104444</td>\n",
       "      <td>4</td>\n",
       "      <td>8</td>\n",
       "    </tr>\n",
       "    <tr>\n",
       "      <th>16546932</th>\n",
       "      <td>3.16</td>\n",
       "      <td>12.5</td>\n",
       "      <td>1.0</td>\n",
       "      <td>0.318889</td>\n",
       "      <td>4</td>\n",
       "      <td>16</td>\n",
       "    </tr>\n",
       "    <tr>\n",
       "      <th>18953381</th>\n",
       "      <td>1.46</td>\n",
       "      <td>4.0</td>\n",
       "      <td>3.0</td>\n",
       "      <td>0.043333</td>\n",
       "      <td>0</td>\n",
       "      <td>6</td>\n",
       "    </tr>\n",
       "    <tr>\n",
       "      <th>17917618</th>\n",
       "      <td>9.46</td>\n",
       "      <td>46.5</td>\n",
       "      <td>1.0</td>\n",
       "      <td>0.659167</td>\n",
       "      <td>1</td>\n",
       "      <td>9</td>\n",
       "    </tr>\n",
       "    <tr>\n",
       "      <th>17130636</th>\n",
       "      <td>3.36</td>\n",
       "      <td>13.0</td>\n",
       "      <td>1.0</td>\n",
       "      <td>0.264167</td>\n",
       "      <td>1</td>\n",
       "      <td>22</td>\n",
       "    </tr>\n",
       "    <tr>\n",
       "      <th>17475156</th>\n",
       "      <td>1.45</td>\n",
       "      <td>5.0</td>\n",
       "      <td>1.0</td>\n",
       "      <td>0.072778</td>\n",
       "      <td>5</td>\n",
       "      <td>15</td>\n",
       "    </tr>\n",
       "  </tbody>\n",
       "</table>\n",
       "</div>"
      ],
      "text/plain": [
       "          tip_amount  fare_amount  passenger_count  duration  pickup_day  \\\n",
       "13718037        4.26         17.0              1.0  0.385278           3   \n",
       "3853218         1.85          6.0              3.0  0.104444           4   \n",
       "16546932        3.16         12.5              1.0  0.318889           4   \n",
       "18953381        1.46          4.0              3.0  0.043333           0   \n",
       "17917618        9.46         46.5              1.0  0.659167           1   \n",
       "17130636        3.36         13.0              1.0  0.264167           1   \n",
       "17475156        1.45          5.0              1.0  0.072778           5   \n",
       "\n",
       "          pickup_hour  \n",
       "13718037           17  \n",
       "3853218             8  \n",
       "16546932           16  \n",
       "18953381            6  \n",
       "17917618            9  \n",
       "17130636           22  \n",
       "17475156           15  "
      ]
     },
     "execution_count": 7,
     "metadata": {},
     "output_type": "execute_result"
    }
   ],
   "source": [
    "train.head(7)"
   ]
  },
  {
   "cell_type": "code",
   "execution_count": 311,
   "metadata": {},
   "outputs": [],
   "source": [
    "X_train = train.loc[:, joined_df.columns != 'tip_amount']\n",
    "y_train = train['tip_amount']\n",
    "X_test = test.loc[:, joined_df.columns != 'tip_amount']\n",
    "y_test = test['tip_amount']"
   ]
  },
  {
   "cell_type": "code",
   "execution_count": 312,
   "metadata": {},
   "outputs": [
    {
     "name": "stdout",
     "output_type": "stream",
     "text": [
      "CPU times: user 9.74 s, sys: 7.92 ms, total: 9.75 s\n",
      "Wall time: 9.75 s\n"
     ]
    },
    {
     "data": {
      "text/plain": [
       "1.7724274650052376"
      ]
     },
     "execution_count": 312,
     "metadata": {},
     "output_type": "execute_result"
    }
   ],
   "source": [
    "%%time\n",
    "from sklearn.ensemble import RandomForestRegressor\n",
    "from sklearn.metrics import mean_squared_error\n",
    "rf = RandomForestRegressor(max_depth=9, random_state=0, n_estimators=10)\n",
    "rf.fit(X_train, y_train)\n",
    "predict = rf.predict(X_test)\n",
    "mean_squared_error(y_test, predict, squared=False)"
   ]
  },
  {
   "cell_type": "code",
   "execution_count": 313,
   "metadata": {},
   "outputs": [
    {
     "data": {
      "text/plain": [
       "1.7724274650052376"
      ]
     },
     "execution_count": 313,
     "metadata": {},
     "output_type": "execute_result"
    }
   ],
   "source": [
    "from sklearn.metrics import mean_squared_error\n",
    "mean_squared_error(y_test, predict, squared=False)"
   ]
  },
  {
   "cell_type": "code",
   "execution_count": 9,
   "metadata": {},
   "outputs": [],
   "source": [
    "import numpy as np"
   ]
  },
  {
   "cell_type": "code",
   "execution_count": 11,
   "metadata": {},
   "outputs": [
    {
     "data": {
      "text/plain": [
       "[5, 6, 7, 8, 10]"
      ]
     },
     "execution_count": 11,
     "metadata": {},
     "output_type": "execute_result"
    }
   ],
   "source": [
    "[int(x) for x in np.linspace(5, 10, num = 5)]"
   ]
  },
  {
   "cell_type": "code",
   "execution_count": 318,
   "metadata": {},
   "outputs": [
    {
     "name": "stdout",
     "output_type": "stream",
     "text": [
      "{'n_estimators': [10, 31, 52, 73, 94, 115, 136, 157, 178, 200], 'max_features': ['auto', 'sqrt'], 'max_depth': [5, 6, 7, 8, 10, None], 'min_samples_split': [2, 5, 10], 'min_samples_leaf': [1, 2, 4], 'bootstrap': [True, False]}\n"
     ]
    }
   ],
   "source": [
    "# code from https://towardsdatascience.com/hyperparameter-tuning-the-random-forest-in-python-using-scikit-learn-28d2aa77dd74\n",
    "from sklearn.model_selection import RandomizedSearchCV\n",
    "# Number of trees in random forest\n",
    "n_estimators = [int(x) for x in np.linspace(start = 10, stop = 200, num = 10)]\n",
    "# Number of features to consider at every split\n",
    "max_features = ['auto', 'sqrt']\n",
    "# Maximum number of levels in tree\n",
    "max_depth = [int(x) for x in np.linspace(5, 10, num = 5)]\n",
    "max_depth.append(None)\n",
    "# Minimum number of samples required to split a node\n",
    "min_samples_split = [2, 5, 10]\n",
    "# Minimum number of samples required at each leaf node\n",
    "min_samples_leaf = [1, 2, 4]\n",
    "# Method of selecting samples for training each tree\n",
    "bootstrap = [True, False]\n",
    "# Create the random grid\n",
    "random_grid = {'n_estimators': n_estimators,\n",
    "               'max_features': max_features,\n",
    "               'max_depth': max_depth,\n",
    "               'min_samples_split': min_samples_split,\n",
    "               'min_samples_leaf': min_samples_leaf,\n",
    "               'bootstrap': bootstrap}\n",
    "print(random_grid)"
   ]
  },
  {
   "cell_type": "code",
   "execution_count": 319,
   "metadata": {},
   "outputs": [
    {
     "name": "stdout",
     "output_type": "stream",
     "text": [
      "Fitting 3 folds for each of 100 candidates, totalling 300 fits\n"
     ]
    },
    {
     "name": "stderr",
     "output_type": "stream",
     "text": [
      "[Parallel(n_jobs=-1)]: Using backend LokyBackend with 36 concurrent workers.\n",
      "[Parallel(n_jobs=-1)]: Done  90 tasks      | elapsed:  2.4min\n",
      "[Parallel(n_jobs=-1)]: Done 300 out of 300 | elapsed:  9.3min finished\n"
     ]
    },
    {
     "data": {
      "text/plain": [
       "RandomizedSearchCV(cv=3, estimator=RandomForestRegressor(), n_iter=100,\n",
       "                   n_jobs=-1,\n",
       "                   param_distributions={'bootstrap': [True, False],\n",
       "                                        'max_depth': [5, 6, 7, 8, 10, None],\n",
       "                                        'max_features': ['auto', 'sqrt'],\n",
       "                                        'min_samples_leaf': [1, 2, 4],\n",
       "                                        'min_samples_split': [2, 5, 10],\n",
       "                                        'n_estimators': [10, 31, 52, 73, 94,\n",
       "                                                         115, 136, 157, 178,\n",
       "                                                         200]},\n",
       "                   random_state=42, verbose=2)"
      ]
     },
     "execution_count": 319,
     "metadata": {},
     "output_type": "execute_result"
    }
   ],
   "source": [
    "# Use the random grid to search for best hyperparameters\n",
    "# First create the base model to tune\n",
    "rf = RandomForestRegressor()\n",
    "# Random search of parameters, using 3 fold cross validation, \n",
    "# search across 100 different combinations, and use all available cores\n",
    "rf_random = RandomizedSearchCV(estimator = rf, param_distributions = random_grid, n_iter = 100, cv = 3, verbose=2, random_state=42, n_jobs = -1)\n",
    "# Fit the random search model\n",
    "rf_random.fit(X_train, y_train)"
   ]
  },
  {
   "cell_type": "code",
   "execution_count": 320,
   "metadata": {},
   "outputs": [
    {
     "data": {
      "text/plain": [
       "{'n_estimators': 52,\n",
       " 'min_samples_split': 2,\n",
       " 'min_samples_leaf': 4,\n",
       " 'max_features': 'auto',\n",
       " 'max_depth': 7,\n",
       " 'bootstrap': True}"
      ]
     },
     "execution_count": 320,
     "metadata": {},
     "output_type": "execute_result"
    }
   ],
   "source": [
    "rf_random.best_params_"
   ]
  },
  {
   "cell_type": "code",
   "execution_count": 321,
   "metadata": {},
   "outputs": [
    {
     "data": {
      "text/plain": [
       "1.768171672881021"
      ]
     },
     "execution_count": 321,
     "metadata": {},
     "output_type": "execute_result"
    }
   ],
   "source": [
    "from sklearn.metrics import mean_squared_error\n",
    "\n",
    "best_random = rf_random.best_estimator_\n",
    "predictions = best_random.predict(X_test)\n",
    "mean_squared_error(y_test, predictions, squared=False)"
   ]
  },
  {
   "cell_type": "markdown",
   "metadata": {},
   "source": [
    "## TUNING"
   ]
  },
  {
   "cell_type": "markdown",
   "metadata": {},
   "source": [
    "### MAX_DEPTH"
   ]
  },
  {
   "cell_type": "code",
   "execution_count": 329,
   "metadata": {},
   "outputs": [
    {
     "data": {
      "image/png": "[encoded data removed]",
      "text/plain": [
       "<Figure size 432x288 with 1 Axes>"
      ]
     },
     "metadata": {
      "needs_background": "light"
     },
     "output_type": "display_data"
    },
    {
     "name": "stdout",
     "output_type": "stream",
     "text": [
      "CPU times: user 8min 2s, sys: 610 ms, total: 8min 3s\n",
      "Wall time: 18.2 s\n"
     ]
    }
   ],
   "source": [
    "%%time\n",
    "from sklearn.metrics import mean_squared_error\n",
    "max_depths = [int(x) for x in np.linspace(5, 10, num = 5)]\n",
    "train_results = []\n",
    "test_results = []\n",
    "for max_depth in max_depths:\n",
    "    rf = RandomForestRegressor(max_depth=max_depth, n_jobs=-1)\n",
    "    rf.fit(X_train, y_train)\n",
    "    \n",
    "    train_pred = rf.predict(X_train)\n",
    "    train_res = mean_squared_error(y_train, train_pred, squared=False)\n",
    "    train_results.append(train_res)\n",
    "    \n",
    "    y_pred = rf.predict(X_test)\n",
    "    test_res = mean_squared_error(y_test, y_pred, squared=False)\n",
    "    test_results.append(test_res)\n",
    "    \n",
    "from matplotlib.legend_handler import HandlerLine2D\n",
    "line1, = plt.plot(max_depths, train_results, \"b\", label=\"Train RMSE\")\n",
    "line2, = plt.plot(max_depths, test_results, \"r\", label=\"Test RMSE\")\n",
    "plt.legend(handler_map={line1: HandlerLine2D(numpoints=2)})\n",
    "plt.ylabel(\"RMSE score\")\n",
    "plt.xlabel(\"Tree depth\")\n",
    "plt.show()"
   ]
  },
  {
   "cell_type": "markdown",
   "metadata": {},
   "source": [
    "### min_samples_split"
   ]
  },
  {
   "cell_type": "code",
   "execution_count": 333,
   "metadata": {
    "scrolled": true
   },
   "outputs": [
    {
     "data": {
      "image/png": "[encoded data removed]",
      "text/plain": [
       "<Figure size 432x288 with 1 Axes>"
      ]
     },
     "metadata": {
      "needs_background": "light"
     },
     "output_type": "display_data"
    },
    {
     "name": "stdout",
     "output_type": "stream",
     "text": [
      "CPU times: user 22min 29s, sys: 3.55 s, total: 22min 33s\n",
      "Wall time: 45.3 s\n"
     ]
    }
   ],
   "source": [
    "%%time\n",
    "from sklearn.metrics import mean_squared_error\n",
    "min_samples_split = [2, 4, 6, 8, 10]\n",
    "train_results = []\n",
    "test_results = []\n",
    "for sample in min_samples_split:\n",
    "    rf = RandomForestRegressor(min_samples_split = sample, n_jobs=-1)\n",
    "    rf.fit(X_train, y_train)\n",
    "    \n",
    "    train_pred = rf.predict(X_train)\n",
    "    train_res = mean_squared_error(y_train, train_pred, squared=False)\n",
    "    train_results.append(train_res)\n",
    "    \n",
    "    y_pred = rf.predict(X_test)\n",
    "    test_res = mean_squared_error(y_test, y_pred, squared=False)\n",
    "    test_results.append(test_res)\n",
    "    \n",
    "from matplotlib.legend_handler import HandlerLine2D\n",
    "line1, = plt.plot(min_samples_split, train_results, \"b\", label=\"Train RMSE\")\n",
    "line2, = plt.plot(min_samples_split, test_results, \"r\", label=\"Test RMSE\")\n",
    "plt.legend(handler_map={line1: HandlerLine2D(numpoints=2)})\n",
    "plt.ylabel(\"RMSE score\")\n",
    "plt.xlabel(\"min samples split\")\n",
    "plt.show()"
   ]
  },
  {
   "cell_type": "markdown",
   "metadata": {},
   "source": [
    "### n_estimators"
   ]
  },
  {
   "cell_type": "code",
   "execution_count": 330,
   "metadata": {
    "scrolled": true
   },
   "outputs": [
    {
     "data": {
      "image/png": "[encoded data removed]",
      "text/plain": [
       "<Figure size 432x288 with 1 Axes>"
      ]
     },
     "metadata": {
      "needs_background": "light"
     },
     "output_type": "display_data"
    },
    {
     "name": "stdout",
     "output_type": "stream",
     "text": [
      "CPU times: user 54min 10s, sys: 22.5 s, total: 54min 32s\n",
      "Wall time: 1min 55s\n"
     ]
    }
   ],
   "source": [
    "%%time\n",
    "from sklearn.metrics import mean_squared_error\n",
    "n_estimators = [int(x) for x in np.linspace(start = 10, stop = 200, num = 10)]\n",
    "train_results = []\n",
    "test_results = []\n",
    "for n_estimates in n_estimators:\n",
    "    rf = RandomForestRegressor(n_estimators=n_estimates, n_jobs=-1)\n",
    "    rf.fit(X_train, y_train)\n",
    "    \n",
    "    train_pred = rf.predict(X_train)\n",
    "    train_res = mean_squared_error(y_train, train_pred, squared=False)\n",
    "    train_results.append(train_res)\n",
    "    \n",
    "    y_pred = rf.predict(X_test)\n",
    "    test_res = mean_squared_error(y_test, y_pred, squared=False)\n",
    "    test_results.append(test_res)\n",
    "    \n",
    "from matplotlib.legend_handler import HandlerLine2D\n",
    "line1, = plt.plot(n_estimators, train_results, \"b\", label=\"Train RMSE\")\n",
    "line2, = plt.plot(n_estimators, test_results, \"r\", label=\"Test RMSE\")\n",
    "plt.legend(handler_map={line1: HandlerLine2D(numpoints=2)})\n",
    "plt.ylabel(\"RMSE score\")\n",
    "plt.xlabel(\"n_estimators\")\n",
    "plt.show()"
   ]
  },
  {
   "cell_type": "markdown",
   "metadata": {},
   "source": [
    "### min_samples_leaf"
   ]
  },
  {
   "cell_type": "code",
   "execution_count": 334,
   "metadata": {
    "scrolled": true
   },
   "outputs": [
    {
     "data": {
      "image/png": "[encoded data removed]",
      "text/plain": [
       "<Figure size 432x288 with 1 Axes>"
      ]
     },
     "metadata": {
      "needs_background": "light"
     },
     "output_type": "display_data"
    },
    {
     "name": "stdout",
     "output_type": "stream",
     "text": [
      "CPU times: user 20min 54s, sys: 2.88 s, total: 20min 57s\n",
      "Wall time: 43.4 s\n"
     ]
    }
   ],
   "source": [
    "%%time\n",
    "from sklearn.metrics import mean_squared_error\n",
    "min_samples_leaf = [1, 2, 4, 6, 8]\n",
    "train_results = []\n",
    "test_results = []\n",
    "for sample in min_samples_leaf:\n",
    "    rf = RandomForestRegressor(min_samples_leaf=sample, n_jobs=-1)\n",
    "    rf.fit(X_train, y_train)\n",
    "    \n",
    "    train_pred = rf.predict(X_train)\n",
    "    train_res = mean_squared_error(y_train, train_pred, squared=False)\n",
    "    train_results.append(train_res)\n",
    "    \n",
    "    y_pred = rf.predict(X_test)\n",
    "    test_res = mean_squared_error(y_test, y_pred, squared=False)\n",
    "    test_results.append(test_res)\n",
    "    \n",
    "from matplotlib.legend_handler import HandlerLine2D\n",
    "line1, = plt.plot(min_samples_leaf, train_results, \"b\", label=\"Train RMSE\")\n",
    "line2, = plt.plot(min_samples_leaf, test_results, \"r\", label=\"Test RMSE\")\n",
    "plt.legend(handler_map={line1: HandlerLine2D(numpoints=2)})\n",
    "plt.ylabel(\"RMSE score\")\n",
    "plt.xlabel(\"min_samples_leaf\")\n",
    "plt.show()"
   ]
  },
  {
   "cell_type": "code",
   "execution_count": null,
   "metadata": {},
   "outputs": [],
   "source": [
    "plt.savefig('max_depth.png')"
   ]
  },
  {
   "cell_type": "code",
   "execution_count": null,
   "metadata": {},
   "outputs": [],
   "source": []
  },
  {
   "cell_type": "markdown",
   "metadata": {},
   "source": [
    "## OLS"
   ]
  },
  {
   "cell_type": "code",
   "execution_count": 235,
   "metadata": {},
   "outputs": [],
   "source": [
    "from statsmodels.formula.api import *"
   ]
  },
  {
   "cell_type": "code",
   "execution_count": 279,
   "metadata": {
    "scrolled": false
   },
   "outputs": [
    {
     "name": "stdout",
     "output_type": "stream",
     "text": [
      "                            OLS Regression Results                            \n",
      "==============================================================================\n",
      "Dep. Variable:             tip_amount   R-squared:                       0.560\n",
      "Model:                            OLS   Adj. R-squared:                  0.560\n",
      "Method:                 Least Squares   F-statistic:                 2.767e+05\n",
      "Date:                Tue, 29 Sep 2020   Prob (F-statistic):               0.00\n",
      "Time:                        08:29:13   Log-Likelihood:            -2.6642e+06\n",
      "No. Observations:             1305200   AIC:                         5.328e+06\n",
      "Df Residuals:                 1305193   BIC:                         5.329e+06\n",
      "Df Model:                           6                                         \n",
      "Covariance Type:            nonrobust                                         \n",
      "===================================================================================\n",
      "                      coef    std err          t      P>|t|      [0.025      0.975]\n",
      "-----------------------------------------------------------------------------------\n",
      "Intercept           0.5477      0.006     93.672      0.000       0.536       0.559\n",
      "passenger_count     0.0160      0.001     11.687      0.000       0.013       0.019\n",
      "fare_amount         0.1718      0.000    668.771      0.000       0.171       0.172\n",
      "duration            0.4669      0.015     30.273      0.000       0.437       0.497\n",
      "pickup_day         -0.0097      0.001    -11.346      0.000      -0.011      -0.008\n",
      "pickup_hour         0.0075      0.000     27.757      0.000       0.007       0.008\n",
      "bad_weather        -0.0009      0.004     -0.263      0.792      -0.008       0.006\n",
      "==============================================================================\n",
      "Omnibus:                  3029957.842   Durbin-Watson:                   2.000\n",
      "Prob(Omnibus):                  0.000   Jarque-Bera (JB):     516096011034.596\n",
      "Skew:                          21.636   Prob(JB):                         0.00\n",
      "Kurtosis:                    3083.275   Cond. No.                         207.\n",
      "==============================================================================\n",
      "\n",
      "Warnings:\n",
      "[1] Standard Errors assume that the covariance matrix of the errors is correctly specified.\n"
     ]
    }
   ],
   "source": [
    "fitter1 = ols(formula=\"tip_amount ~ passenger_count + fare_amount + duration + pickup_day + pickup_hour + bad_weather\",\n",
    "         data=train).fit()\n",
    "print(fitter1.summary())"
   ]
  },
  {
   "cell_type": "code",
   "execution_count": 288,
   "metadata": {},
   "outputs": [
    {
     "data": {
      "text/plain": [
       "1.934022745629077"
      ]
     },
     "execution_count": 288,
     "metadata": {},
     "output_type": "execute_result"
    }
   ],
   "source": [
    "from statsmodels.tools.eval_measures import rmse\n",
    "\n",
    "pred = fitter1.predict(test)\n",
    "rmse(y_test, pred, axis=0)"
   ]
  },
  {
   "cell_type": "code",
   "execution_count": 281,
   "metadata": {},
   "outputs": [
    {
     "name": "stdout",
     "output_type": "stream",
     "text": [
      "                            OLS Regression Results                            \n",
      "==============================================================================\n",
      "Dep. Variable:             tip_amount   R-squared:                       0.409\n",
      "Model:                            OLS   Adj. R-squared:                  0.409\n",
      "Method:                 Least Squares   F-statistic:                 2.259e+05\n",
      "Date:                Tue, 29 Sep 2020   Prob (F-statistic):               0.00\n",
      "Time:                        08:29:29   Log-Likelihood:            -2.8565e+06\n",
      "No. Observations:             1305200   AIC:                         5.713e+06\n",
      "Df Residuals:                 1305195   BIC:                         5.713e+06\n",
      "Df Model:                           4                                         \n",
      "Covariance Type:            nonrobust                                         \n",
      "===================================================================================\n",
      "                      coef    std err          t      P>|t|      [0.025      0.975]\n",
      "-----------------------------------------------------------------------------------\n",
      "Intercept           0.7650      0.007    115.264      0.000       0.752       0.778\n",
      "passenger_count     0.0157      0.002      9.926      0.000       0.013       0.019\n",
      "duration            9.1530      0.010    949.865      0.000       9.134       9.172\n",
      "pickup_day          0.0100      0.001     10.097      0.000       0.008       0.012\n",
      "pickup_hour        -0.0020      0.000     -6.262      0.000      -0.003      -0.001\n",
      "==============================================================================\n",
      "Omnibus:                  2899947.678   Durbin-Watson:                   2.000\n",
      "Prob(Omnibus):                  0.000   Jarque-Bera (JB):     297257616432.877\n",
      "Skew:                          19.495   Prob(JB):                         0.00\n",
      "Kurtosis:                    2340.616   Cond. No.                         82.8\n",
      "==============================================================================\n",
      "\n",
      "Warnings:\n",
      "[1] Standard Errors assume that the covariance matrix of the errors is correctly specified.\n"
     ]
    }
   ],
   "source": [
    "fitter2 = ols(formula=\"tip_amount ~ passenger_count + duration + pickup_day + pickup_hour\",\n",
    "         data=train).fit()\n",
    "print(fitter2.summary())"
   ]
  },
  {
   "cell_type": "code",
   "execution_count": 282,
   "metadata": {},
   "outputs": [
    {
     "data": {
      "text/plain": [
       "2.2217603701959137"
      ]
     },
     "execution_count": 282,
     "metadata": {},
     "output_type": "execute_result"
    }
   ],
   "source": [
    "from statsmodels.tools.eval_measures import rmse\n",
    "\n",
    "pred = fitter2.predict(test)\n",
    "rmse(y_test, pred, axis=0)"
   ]
  },
  {
   "cell_type": "code",
   "execution_count": 290,
   "metadata": {},
   "outputs": [
    {
     "name": "stdout",
     "output_type": "stream",
     "text": [
      "R-squared: 0.5419741937432497\n"
     ]
    }
   ],
   "source": [
    "from sklearn.linear_model import LinearRegression\n",
    "\n",
    "lr = LinearRegression()\n",
    "lr.fit(X_train, y_train)\n",
    "y_test_pred = lr.predict(X_test)\n",
    "print('R-squared:', lr.score(X_test, y_test))"
   ]
  },
  {
   "cell_type": "code",
   "execution_count": 289,
   "metadata": {},
   "outputs": [
    {
     "data": {
      "text/plain": [
       "1.934022745629077"
      ]
     },
     "execution_count": 289,
     "metadata": {},
     "output_type": "execute_result"
    }
   ],
   "source": [
    "from sklearn.metrics import mean_squared_error\n",
    "mean_squared_error(y_test, y_test_pred, squared=False)"
   ]
  },
  {
   "cell_type": "code",
   "execution_count": 252,
   "metadata": {},
   "outputs": [
    {
     "data": {
      "text/html": [
       "<div>\n",
       "<style scoped>\n",
       "    .dataframe tbody tr th:only-of-type {\n",
       "        vertical-align: middle;\n",
       "    }\n",
       "\n",
       "    .dataframe tbody tr th {\n",
       "        vertical-align: top;\n",
       "    }\n",
       "\n",
       "    .dataframe thead th {\n",
       "        text-align: right;\n",
       "    }\n",
       "</style>\n",
       "<table border=\"1\" class=\"dataframe\">\n",
       "  <thead>\n",
       "    <tr style=\"text-align: right;\">\n",
       "      <th></th>\n",
       "      <th>tip_amount</th>\n",
       "      <th>passenger_count</th>\n",
       "      <th>duration</th>\n",
       "      <th>pickup_day</th>\n",
       "      <th>pickup_hour</th>\n",
       "      <th>bad_weather</th>\n",
       "    </tr>\n",
       "  </thead>\n",
       "  <tbody>\n",
       "    <tr>\n",
       "      <th>15381345</th>\n",
       "      <td>2.5500</td>\n",
       "      <td>2.0000</td>\n",
       "      <td>0.2578</td>\n",
       "      <td>5</td>\n",
       "      <td>14</td>\n",
       "      <td>0</td>\n",
       "    </tr>\n",
       "    <tr>\n",
       "      <th>6135911</th>\n",
       "      <td>2.3500</td>\n",
       "      <td>1.0000</td>\n",
       "      <td>0.1644</td>\n",
       "      <td>2</td>\n",
       "      <td>17</td>\n",
       "      <td>0</td>\n",
       "    </tr>\n",
       "    <tr>\n",
       "      <th>3353542</th>\n",
       "      <td>1.0000</td>\n",
       "      <td>3.0000</td>\n",
       "      <td>0.1350</td>\n",
       "      <td>4</td>\n",
       "      <td>17</td>\n",
       "      <td>0</td>\n",
       "    </tr>\n",
       "    <tr>\n",
       "      <th>13092546</th>\n",
       "      <td>2.7500</td>\n",
       "      <td>4.0000</td>\n",
       "      <td>0.2122</td>\n",
       "      <td>5</td>\n",
       "      <td>22</td>\n",
       "      <td>0</td>\n",
       "    </tr>\n",
       "    <tr>\n",
       "      <th>14499940</th>\n",
       "      <td>1.0000</td>\n",
       "      <td>6.0000</td>\n",
       "      <td>0.2697</td>\n",
       "      <td>6</td>\n",
       "      <td>0</td>\n",
       "      <td>1</td>\n",
       "    </tr>\n",
       "  </tbody>\n",
       "</table>\n",
       "</div>"
      ],
      "text/plain": [
       "          tip_amount  passenger_count  duration  pickup_day  pickup_hour  \\\n",
       "15381345      2.5500           2.0000    0.2578           5           14   \n",
       "6135911       2.3500           1.0000    0.1644           2           17   \n",
       "3353542       1.0000           3.0000    0.1350           4           17   \n",
       "13092546      2.7500           4.0000    0.2122           5           22   \n",
       "14499940      1.0000           6.0000    0.2697           6            0   \n",
       "\n",
       "          bad_weather  \n",
       "15381345            0  \n",
       "6135911             0  \n",
       "3353542             0  \n",
       "13092546            0  \n",
       "14499940            1  "
      ]
     },
     "execution_count": 252,
     "metadata": {},
     "output_type": "execute_result"
    }
   ],
   "source": [
    "train.head()"
   ]
  },
  {
   "cell_type": "code",
   "execution_count": 253,
   "metadata": {},
   "outputs": [
    {
     "data": {
      "text/html": [
       "<div>\n",
       "<style scoped>\n",
       "    .dataframe tbody tr th:only-of-type {\n",
       "        vertical-align: middle;\n",
       "    }\n",
       "\n",
       "    .dataframe tbody tr th {\n",
       "        vertical-align: top;\n",
       "    }\n",
       "\n",
       "    .dataframe thead th {\n",
       "        text-align: right;\n",
       "    }\n",
       "</style>\n",
       "<table border=\"1\" class=\"dataframe\">\n",
       "  <thead>\n",
       "    <tr style=\"text-align: right;\">\n",
       "      <th></th>\n",
       "      <th>tip_amount</th>\n",
       "      <th>passenger_count</th>\n",
       "      <th>duration</th>\n",
       "      <th>pickup_day</th>\n",
       "      <th>pickup_hour</th>\n",
       "      <th>bad_weather</th>\n",
       "    </tr>\n",
       "  </thead>\n",
       "  <tbody>\n",
       "    <tr>\n",
       "      <th>15381345</th>\n",
       "      <td>2.5500</td>\n",
       "      <td>2.0000</td>\n",
       "      <td>0.2578</td>\n",
       "      <td>5</td>\n",
       "      <td>14</td>\n",
       "      <td>0</td>\n",
       "    </tr>\n",
       "    <tr>\n",
       "      <th>6135911</th>\n",
       "      <td>2.3500</td>\n",
       "      <td>1.0000</td>\n",
       "      <td>0.1644</td>\n",
       "      <td>2</td>\n",
       "      <td>17</td>\n",
       "      <td>0</td>\n",
       "    </tr>\n",
       "    <tr>\n",
       "      <th>3353542</th>\n",
       "      <td>1.0000</td>\n",
       "      <td>3.0000</td>\n",
       "      <td>0.1350</td>\n",
       "      <td>4</td>\n",
       "      <td>17</td>\n",
       "      <td>0</td>\n",
       "    </tr>\n",
       "    <tr>\n",
       "      <th>13092546</th>\n",
       "      <td>2.7500</td>\n",
       "      <td>4.0000</td>\n",
       "      <td>0.2122</td>\n",
       "      <td>5</td>\n",
       "      <td>22</td>\n",
       "      <td>0</td>\n",
       "    </tr>\n",
       "    <tr>\n",
       "      <th>14499940</th>\n",
       "      <td>1.0000</td>\n",
       "      <td>6.0000</td>\n",
       "      <td>0.2697</td>\n",
       "      <td>6</td>\n",
       "      <td>0</td>\n",
       "      <td>1</td>\n",
       "    </tr>\n",
       "  </tbody>\n",
       "</table>\n",
       "</div>"
      ],
      "text/plain": [
       "          tip_amount  passenger_count  duration  pickup_day  pickup_hour  \\\n",
       "15381345      2.5500           2.0000    0.2578           5           14   \n",
       "6135911       2.3500           1.0000    0.1644           2           17   \n",
       "3353542       1.0000           3.0000    0.1350           4           17   \n",
       "13092546      2.7500           4.0000    0.2122           5           22   \n",
       "14499940      1.0000           6.0000    0.2697           6            0   \n",
       "\n",
       "          bad_weather  \n",
       "15381345            0  \n",
       "6135911             0  \n",
       "3353542             0  \n",
       "13092546            0  \n",
       "14499940            1  "
      ]
     },
     "execution_count": 253,
     "metadata": {},
     "output_type": "execute_result"
    }
   ],
   "source": [
    "train.head()"
   ]
  },
  {
   "cell_type": "code",
   "execution_count": null,
   "metadata": {},
   "outputs": [],
   "source": []
  },
  {
   "cell_type": "code",
   "execution_count": null,
   "metadata": {},
   "outputs": [],
   "source": []
  }
 ],
 "metadata": {
  "kernelspec": {
   "display_name": "Python 3",
   "language": "python",
   "name": "python3"
  },
  "language_info": {
   "codemirror_mode": {
    "name": "ipython",
    "version": 3
   },
   "file_extension": ".py",
   "mimetype": "text/x-python",
   "name": "python",
   "nbconvert_exporter": "python",
   "pygments_lexer": "ipython3",
   "version": "3.6.9"
  }
 },
 "nbformat": 4,
 "nbformat_minor": 4
}
